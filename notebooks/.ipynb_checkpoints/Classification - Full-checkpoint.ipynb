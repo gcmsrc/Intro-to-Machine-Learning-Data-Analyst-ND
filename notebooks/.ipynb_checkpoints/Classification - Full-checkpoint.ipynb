{
 "cells": [
  {
   "cell_type": "markdown",
   "metadata": {
    "slideshow": {
     "slide_type": "slide"
    }
   },
   "source": [
    "# Introduction\n",
    "This notebook contains all the code I have used to define, test and select a machine learning algorithm. The algorithm aims at predicting the status of an Enron employees as <i>poi</i> or <i>non-poi</i>, where <i>poi</i> means Person of Interest, i.e. a person involved in the Enron scandal.\n",
    "<br>\n",
    "<br>\n",
    "The data is taken from the Enron dataset provided in the course."
   ]
  },
  {
   "cell_type": "markdown",
   "metadata": {
    "slideshow": {
     "slide_type": "subslide"
    }
   },
   "source": [
    "# Process\n",
    "The process is articulated in a series of 12 steps. In short, however, what I am doing is not rocket science.\n",
    "<br>\n",
    "<br>\n",
    "I start from the Enron dataset. After having removed outliers and added new features, I split the data into features and labels, using the provided modules.<br>\n",
    "I then define a list of classifiers that I optimise on the entire population (i.e. I choose the best parameters after running <i>GridSearchCV</i>).<br>\n",
    "Finally, I validate my classifiers and choose the one with the highest performance metric(s), e.g. <i>f1 score</i>."
   ]
  },
  {
   "cell_type": "markdown",
   "metadata": {
    "slideshow": {
     "slide_type": "subslide"
    }
   },
   "source": [
    "### List of steps\n",
    "The steps I am following are:\n",
    "<ol>\n",
    "    <li><b>Import</b> the dataset;</li>\n",
    "    <li>Define <b>outliers</b>;</li>\n",
    "    <li>Define <b>new variables/features</b>;</li>\n",
    "    <li><b>Parse</b> dataset by removing outliers and adding new features;</li>\n",
    "    <li><b>Keep variables</b> for which percentage of <i>NaN</i> is below a specified threshold;</li>\n",
    "    <li><b>Remove</b> variables which are highly correlated between each other, and keep only one;</li>\n",
    "    <li><b>Split data</b> into \"Features\" and \"Labels\";</li>\n",
    "    <li><b>Scale features</b> using MinMax scaler;</li>\n",
    "    <li>Define <b>list of classifiers</b>;</li>\n",
    "    <li><b>Optimise parameters</b> of classifiers (on the entire population). I might use pipelines adding PCA or k-best feature selection. Optimisation is performed via GridSearchCV;</li>\n",
    "    <li><b>Evaluate</b> classifiers, i.e. calculate performance metrics using cross validation.</li>\n",
    "</ol>\n",
    "<br>\n",
    "The best-performing classifier is the one I will select."
   ]
  },
  {
   "cell_type": "markdown",
   "metadata": {
    "slideshow": {
     "slide_type": "subslide"
    }
   },
   "source": [
    "#### Importing modules\n",
    "First of all I import a series of modules I will need over this exercise. Please note that some of the modules have been created by me (e.g. <i>dict_parser</i>) or Udacity (e.g. <i>feature_format</i>). "
   ]
  },
  {
   "cell_type": "code",
   "execution_count": 1,
   "metadata": {
    "collapsed": false,
    "slideshow": {
     "slide_type": "subslide"
    }
   },
   "outputs": [],
   "source": [
    "# Import standard modules\n",
    "import pickle\n",
    "import pandas as pd\n",
    "import numpy as np\n",
    "import re\n",
    "import seaborn as sns\n",
    "import matplotlib.pyplot as plt\n",
    "%matplotlib inline\n",
    "import sys\n",
    "import time\n",
    "from collections import OrderedDict\n",
    "\n",
    "\n",
    "# Import sklearn modules\n",
    "from sklearn.feature_selection import SelectKBest, f_classif\n",
    "from sklearn.preprocessing import MinMaxScaler\n",
    "from sklearn.naive_bayes import GaussianNB\n",
    "from sklearn.svm import SVC\n",
    "from sklearn.linear_model import LogisticRegression as LR\n",
    "from sklearn.tree import DecisionTreeClassifier as DTC\n",
    "from sklearn.ensemble import RandomForestClassifier as RFC\n",
    "from sklearn.ensemble import AdaBoostClassifier as ABC\n",
    "from sklearn.neighbors import KNeighborsClassifier as KNC\n",
    "\n",
    "\n",
    "\n",
    "\n",
    "# Import user-defined modules\n",
    "sys.path.append(\"../tools\")\n",
    "from feature_format import featureFormat, targetFeatureSplit\n",
    "import dict_parser\n",
    "import clf_builder\n",
    "import evaluate\n",
    "import optimiser as opt\n",
    "\n",
    "sys.path.append(\"../scripts\")\n",
    "import tester"
   ]
  },
  {
   "cell_type": "markdown",
   "metadata": {
    "slideshow": {
     "slide_type": "slide"
    }
   },
   "source": [
    "### 1. Import the dataset\n",
    "I start by importing the Enron dataset, stored in a pickle file. I call this file data_dict."
   ]
  },
  {
   "cell_type": "code",
   "execution_count": 2,
   "metadata": {
    "collapsed": false,
    "slideshow": {
     "slide_type": "slide"
    }
   },
   "outputs": [],
   "source": [
    "with open(\"../data/final_project_dataset.pkl\", \"r\") as data_file:\n",
    "    data_dict = pickle.load(data_file)"
   ]
  },
  {
   "cell_type": "code",
   "execution_count": 3,
   "metadata": {
    "collapsed": false
   },
   "outputs": [],
   "source": [
    "df = dict_parser.convert_into_df(data_dict)"
   ]
  },
  {
   "cell_type": "code",
   "execution_count": 4,
   "metadata": {
    "collapsed": false
   },
   "outputs": [
    {
     "data": {
      "text/plain": [
       "18.0"
      ]
     },
     "execution_count": 4,
     "metadata": {},
     "output_type": "execute_result"
    }
   ],
   "source": [
    "df['poi'].sum()"
   ]
  },
  {
   "cell_type": "markdown",
   "metadata": {
    "slideshow": {
     "slide_type": "slide"
    }
   },
   "source": [
    "### 2. Define outliers\n",
    "I now define a list of outliers I want to remove from the dataset."
   ]
  },
  {
   "cell_type": "code",
   "execution_count": 5,
   "metadata": {
    "collapsed": true,
    "slideshow": {
     "slide_type": "slide"
    }
   },
   "outputs": [],
   "source": [
    "outliers = ['TOTAL',\n",
    "            'SHAPIRO RICHARD S',\n",
    "            'KAMINSKI WINCENTY J',\n",
    "            'KEAN STEVEN J',\n",
    "            'LOCKHART EUGENE E',\n",
    "            'THE TRAVEL AGENCY IN THE PARK']"
   ]
  },
  {
   "cell_type": "markdown",
   "metadata": {
    "slideshow": {
     "slide_type": "slide"
    }
   },
   "source": [
    "### 3. Define new variables"
   ]
  },
  {
   "cell_type": "markdown",
   "metadata": {
    "slideshow": {
     "slide_type": "slide"
    }
   },
   "source": [
    "I now define a dictionary specifying the variables I want to add."
   ]
  },
  {
   "cell_type": "code",
   "execution_count": 6,
   "metadata": {
    "collapsed": true,
    "slideshow": {
     "slide_type": "slide"
    }
   },
   "outputs": [],
   "source": [
    "# Define adder dictionary for adding new variables\n",
    "adder_dictionary = {'ratio' : {'exercised_ratio': ['exercised_stock_options',\n",
    "                                                   'total_stock_value'],\n",
    "                               'from_poi_ratio' : ['from_poi_to_this_person', 'to_messages'],\n",
    "                               'to_poi_ratio' : ['from_this_person_to_poi', 'from_messages'],\n",
    "                               'shared_with_poi_ratio' : ['shared_receipt_with_poi',\n",
    "                                                          'to_messages']},\n",
    "                    'additive' : {'wealth' : ['salary',\n",
    "                                              'total_payments',\n",
    "                                              'bonus',\n",
    "                                              'total_stock_value',\n",
    "                                              'expenses',\n",
    "                                              'other',\n",
    "                                              'restricted_stock']}}"
   ]
  },
  {
   "cell_type": "markdown",
   "metadata": {
    "slideshow": {
     "slide_type": "slide"
    }
   },
   "source": [
    "### 4. Parse dataset"
   ]
  },
  {
   "cell_type": "markdown",
   "metadata": {
    "slideshow": {
     "slide_type": "slide"
    }
   },
   "source": [
    "I now parse the dataset using the <i>parse_dictionary</i> function in the <i>dict_parser</i> module I have created. This function simply retuns a similar dictionary, after having removed outliers, added new variables, and added log and sqrt transformations of selected variables."
   ]
  },
  {
   "cell_type": "code",
   "execution_count": 7,
   "metadata": {
    "collapsed": false,
    "slideshow": {
     "slide_type": "slide"
    }
   },
   "outputs": [],
   "source": [
    "# Return parsed data dictionary\n",
    "my_dataset = dict_parser.parse_dictionary(data_dict,\n",
    "                                          outliers,\n",
    "                                          adder_dictionary,\n",
    "                                          log_sqrt=['wealth', 'exercised_stock_options'])"
   ]
  },
  {
   "cell_type": "markdown",
   "metadata": {
    "slideshow": {
     "slide_type": "slide"
    }
   },
   "source": [
    "### 5. Keep variables only if NaN proportion is below a certain threshold\n",
    "The next chunk extracts the features for which the proportion of <i>NaN</i> values is below a specified certain threshold. By default, this threshold is equal to 0.5."
   ]
  },
  {
   "cell_type": "code",
   "execution_count": 8,
   "metadata": {
    "collapsed": false,
    "slideshow": {
     "slide_type": "slide"
    }
   },
   "outputs": [],
   "source": [
    "keep_variables = dict_parser.extract_fields_for_ml(my_dataset)"
   ]
  },
  {
   "cell_type": "markdown",
   "metadata": {
    "slideshow": {
     "slide_type": "slide"
    }
   },
   "source": [
    "### 6. Remove variables which are highly correlated"
   ]
  },
  {
   "cell_type": "markdown",
   "metadata": {
    "slideshow": {
     "slide_type": "slide"
    }
   },
   "source": [
    "There might be some variables which are highly correlated between each other. In order to avoid redundant information, I might just remove these correlated variables and choose one of them.\n",
    "<br>\n",
    "<br>\n",
    "In order to quickly visualise the correlations, I am going to use a correlation matrix."
   ]
  },
  {
   "cell_type": "code",
   "execution_count": 9,
   "metadata": {
    "collapsed": false,
    "slideshow": {
     "slide_type": "slide"
    }
   },
   "outputs": [],
   "source": [
    "# Convert dataset to pandas dataframe\n",
    "# Please notice that I am slicing the dataframe by using the keep variables only\n",
    "df = dict_parser.convert_into_df(my_dataset)[keep_variables]\n",
    "\n",
    "# Create correlation dataframe\n",
    "corr = df.corr()"
   ]
  },
  {
   "cell_type": "markdown",
   "metadata": {
    "slideshow": {
     "slide_type": "slide"
    }
   },
   "source": [
    "In order to create a correlation matrix, I am using a similar code to the one provided [here](https://stanford.edu/~mwaskom/software/seaborn/examples/many_pairwise_correlations.html)."
   ]
  },
  {
   "cell_type": "code",
   "execution_count": 10,
   "metadata": {
    "collapsed": false,
    "slideshow": {
     "slide_type": "slide"
    }
   },
   "outputs": [
    {
     "data": {
      "text/plain": [
       "<matplotlib.axes._subplots.AxesSubplot at 0x117452890>"
      ]
     },
     "execution_count": 10,
     "metadata": {},
     "output_type": "execute_result"
    },
    {
     "data": {
      "image/png": "[encoded data removed]",
      "text/plain": [
       "<matplotlib.figure.Figure at 0x117452390>"
      ]
     },
     "metadata": {},
     "output_type": "display_data"
    }
   ],
   "source": [
    "sns.set(style=\"white\")\n",
    "\n",
    "# Generate a mask for the upper triangle\n",
    "mask = np.zeros_like(corr, dtype=np.bool)\n",
    "mask[np.triu_indices_from(mask)] = True\n",
    "\n",
    "# Set up the matplotlib figure\n",
    "f, ax = plt.subplots(figsize=(11, 9))\n",
    "\n",
    "# Generate a custom diverging colormap\n",
    "cmap = sns.diverging_palette(220, 10, as_cmap=True)\n",
    "\n",
    "# Draw the heatmap with the mask and correct aspect ratio\n",
    "sns.heatmap(corr, mask=mask, cmap=cmap,\n",
    "            square=True, xticklabels=True, yticklabels=True,\n",
    "            linewidths=.5, cbar_kws={\"shrink\": .5}, ax=ax)"
   ]
  },
  {
   "cell_type": "markdown",
   "metadata": {
    "slideshow": {
     "slide_type": "slide"
    }
   },
   "source": [
    "Obviously, a variable like <b>wealth</b> is highly correlated with the variables it is the sum of (e.g. restricted_stock, salary, sqrt_wealth, etc.).\n",
    "<br>\n",
    "<br>\n",
    "There are three approach to address a situation like this:\n",
    "<ul>\n",
    "    <li><b>manually</b> remove highly correlated values and just pick one;</li>\n",
    "    <li>selecting the <b>most important features</b> that explain variance in the variable <i>poi</i>;</li>\n",
    "    <li>use <b>PCA</b> to identify principal components;</li>\n",
    "</ul>\n",
    "<br>\n",
    "Ultimately, PCA would be my <b>favourite choice</b>, but I would also like to remove variables which are somehow duplicates, e.g. <i>sqrt_wealth</i> and <i>log_wealth</i> and just keep one of them. In order to faciliate this choice, I will use <i>SelectKBest</i> (with ANOVA classification, i.e. <i>f_classif</i>).<br>\n",
    "In order to do that, I firstly need to convert the dataset into arrays of features and labels. I will use the <i>featureFormat</i> function already provided."
   ]
  },
  {
   "cell_type": "markdown",
   "metadata": {
    "collapsed": true,
    "slideshow": {
     "slide_type": "slide"
    }
   },
   "source": [
    "### 7. Split data into features and labels\n",
    "I am extracting features and labels for all variables in the <i>keep_variables</i> list."
   ]
  },
  {
   "cell_type": "code",
   "execution_count": 11,
   "metadata": {
    "collapsed": true,
    "slideshow": {
     "slide_type": "slide"
    }
   },
   "outputs": [],
   "source": [
    "data = featureFormat(my_dataset, keep_variables, sort_keys=True)\n",
    "labels, features = targetFeatureSplit(data)"
   ]
  },
  {
   "cell_type": "markdown",
   "metadata": {
    "slideshow": {
     "slide_type": "slide"
    }
   },
   "source": [
    "Going back to paragraph 6, I will now check the importance of features in explaining the variance in the label variable (by using <i>f_classif</i>, i.e. ANOVA, on all the features)."
   ]
  },
  {
   "cell_type": "code",
   "execution_count": 12,
   "metadata": {
    "collapsed": false,
    "slideshow": {
     "slide_type": "slide"
    }
   },
   "outputs": [
    {
     "data": {
      "text/html": [
       "<div>\n",
       "<table border=\"1\" class=\"dataframe\">\n",
       "  <thead>\n",
       "    <tr style=\"text-align: right;\">\n",
       "      <th></th>\n",
       "      <th>feature</th>\n",
       "      <th>score</th>\n",
       "      <th>p_value</th>\n",
       "    </tr>\n",
       "  </thead>\n",
       "  <tbody>\n",
       "    <tr>\n",
       "      <th>18</th>\n",
       "      <td>sqrt_wealth</td>\n",
       "      <td>25.998223</td>\n",
       "      <td>0.000001</td>\n",
       "    </tr>\n",
       "    <tr>\n",
       "      <th>20</th>\n",
       "      <td>exercised_stock_options</td>\n",
       "      <td>24.175126</td>\n",
       "      <td>0.000002</td>\n",
       "    </tr>\n",
       "    <tr>\n",
       "      <th>13</th>\n",
       "      <td>total_stock_value</td>\n",
       "      <td>23.803037</td>\n",
       "      <td>0.000003</td>\n",
       "    </tr>\n",
       "    <tr>\n",
       "      <th>12</th>\n",
       "      <td>bonus</td>\n",
       "      <td>20.444077</td>\n",
       "      <td>0.000013</td>\n",
       "    </tr>\n",
       "    <tr>\n",
       "      <th>17</th>\n",
       "      <td>salary</td>\n",
       "      <td>18.857360</td>\n",
       "      <td>0.000027</td>\n",
       "    </tr>\n",
       "    <tr>\n",
       "      <th>5</th>\n",
       "      <td>wealth</td>\n",
       "      <td>17.456193</td>\n",
       "      <td>0.000052</td>\n",
       "    </tr>\n",
       "    <tr>\n",
       "      <th>10</th>\n",
       "      <td>to_poi_ratio</td>\n",
       "      <td>15.835637</td>\n",
       "      <td>0.000111</td>\n",
       "    </tr>\n",
       "    <tr>\n",
       "      <th>21</th>\n",
       "      <td>sqrt_exercised_stock_options</td>\n",
       "      <td>12.471630</td>\n",
       "      <td>0.000562</td>\n",
       "    </tr>\n",
       "    <tr>\n",
       "      <th>7</th>\n",
       "      <td>shared_receipt_with_poi</td>\n",
       "      <td>11.483310</td>\n",
       "      <td>0.000916</td>\n",
       "    </tr>\n",
       "    <tr>\n",
       "      <th>11</th>\n",
       "      <td>log_wealth</td>\n",
       "      <td>11.217866</td>\n",
       "      <td>0.001045</td>\n",
       "    </tr>\n",
       "    <tr>\n",
       "      <th>16</th>\n",
       "      <td>restricted_stock</td>\n",
       "      <td>9.457603</td>\n",
       "      <td>0.002536</td>\n",
       "    </tr>\n",
       "    <tr>\n",
       "      <th>4</th>\n",
       "      <td>shared_with_poi_ratio</td>\n",
       "      <td>8.752506</td>\n",
       "      <td>0.003639</td>\n",
       "    </tr>\n",
       "    <tr>\n",
       "      <th>19</th>\n",
       "      <td>total_payments</td>\n",
       "      <td>8.549333</td>\n",
       "      <td>0.004041</td>\n",
       "    </tr>\n",
       "    <tr>\n",
       "      <th>2</th>\n",
       "      <td>expenses</td>\n",
       "      <td>6.894750</td>\n",
       "      <td>0.009621</td>\n",
       "    </tr>\n",
       "    <tr>\n",
       "      <th>0</th>\n",
       "      <td>to_messages</td>\n",
       "      <td>5.610236</td>\n",
       "      <td>0.019242</td>\n",
       "    </tr>\n",
       "    <tr>\n",
       "      <th>3</th>\n",
       "      <td>from_poi_to_this_person</td>\n",
       "      <td>5.521122</td>\n",
       "      <td>0.020206</td>\n",
       "    </tr>\n",
       "    <tr>\n",
       "      <th>9</th>\n",
       "      <td>other</td>\n",
       "      <td>4.012578</td>\n",
       "      <td>0.047121</td>\n",
       "    </tr>\n",
       "    <tr>\n",
       "      <th>14</th>\n",
       "      <td>from_this_person_to_poi</td>\n",
       "      <td>3.737956</td>\n",
       "      <td>0.055237</td>\n",
       "    </tr>\n",
       "    <tr>\n",
       "      <th>15</th>\n",
       "      <td>from_poi_ratio</td>\n",
       "      <td>2.944631</td>\n",
       "      <td>0.088407</td>\n",
       "    </tr>\n",
       "    <tr>\n",
       "      <th>6</th>\n",
       "      <td>log_exercised_stock_options</td>\n",
       "      <td>0.098586</td>\n",
       "      <td>0.754007</td>\n",
       "    </tr>\n",
       "    <tr>\n",
       "      <th>1</th>\n",
       "      <td>exercised_ratio</td>\n",
       "      <td>0.032084</td>\n",
       "      <td>0.858105</td>\n",
       "    </tr>\n",
       "    <tr>\n",
       "      <th>8</th>\n",
       "      <td>from_messages</td>\n",
       "      <td>0.017580</td>\n",
       "      <td>0.894711</td>\n",
       "    </tr>\n",
       "  </tbody>\n",
       "</table>\n",
       "</div>"
      ],
      "text/plain": [
       "                         feature      score   p_value\n",
       "18                   sqrt_wealth  25.998223  0.000001\n",
       "20       exercised_stock_options  24.175126  0.000002\n",
       "13             total_stock_value  23.803037  0.000003\n",
       "12                         bonus  20.444077  0.000013\n",
       "17                        salary  18.857360  0.000027\n",
       "5                         wealth  17.456193  0.000052\n",
       "10                  to_poi_ratio  15.835637  0.000111\n",
       "21  sqrt_exercised_stock_options  12.471630  0.000562\n",
       "7        shared_receipt_with_poi  11.483310  0.000916\n",
       "11                    log_wealth  11.217866  0.001045\n",
       "16              restricted_stock   9.457603  0.002536\n",
       "4          shared_with_poi_ratio   8.752506  0.003639\n",
       "19                total_payments   8.549333  0.004041\n",
       "2                       expenses   6.894750  0.009621\n",
       "0                    to_messages   5.610236  0.019242\n",
       "3        from_poi_to_this_person   5.521122  0.020206\n",
       "9                          other   4.012578  0.047121\n",
       "14       from_this_person_to_poi   3.737956  0.055237\n",
       "15                from_poi_ratio   2.944631  0.088407\n",
       "6    log_exercised_stock_options   0.098586  0.754007\n",
       "1                exercised_ratio   0.032084  0.858105\n",
       "8                  from_messages   0.017580  0.894711"
      ]
     },
     "execution_count": 12,
     "metadata": {},
     "output_type": "execute_result"
    }
   ],
   "source": [
    "# Extract number of features. Substract 1 since the keep_variables list include also 'poi'\n",
    "num_features = len(keep_variables) - 1\n",
    "\n",
    "# Initiate an instance of SelectKBest selector\n",
    "selector = SelectKBest(score_func=f_classif)\n",
    "\n",
    "# Fit the selector\n",
    "selector.fit(features, labels)\n",
    "\n",
    "# Return a dataframe\n",
    "best_features = pd.DataFrame(keep_variables[1:],\n",
    "                            columns = ['feature'])\n",
    "\n",
    "# Add scores and p-values\n",
    "best_features['score'] = selector.scores_\n",
    "best_features['p_value'] = selector.pvalues_\n",
    "\n",
    "# Order by score\n",
    "best_features.sort_values(by = 'score', ascending=False)"
   ]
  },
  {
   "cell_type": "markdown",
   "metadata": {
    "slideshow": {
     "slide_type": "slide"
    }
   },
   "source": [
    "It is evident how <b>wealth</b> is actually a very important features. Of all three possible wealth features (i.e. actual, sqrt and log transformation), <b>sqrt_wealth</b> has a much higher F score (although the p-value for all of the three is below 5%). Therefore, I will use <i>sqrt_wealth</i> only.\n",
    "<br><b>Also</b>, sqrt_wealth seems to be highly correlated with other financial features. Let me plot the correlation of <i>sqrt_wealth</i>.\n",
    "\n"
   ]
  },
  {
   "cell_type": "code",
   "execution_count": 13,
   "metadata": {
    "collapsed": true
   },
   "outputs": [],
   "source": [
    "wealth_corr = corr['sqrt_wealth'].copy()"
   ]
  },
  {
   "cell_type": "code",
   "execution_count": 14,
   "metadata": {
    "collapsed": false
   },
   "outputs": [],
   "source": [
    "# Simple sequential x axis\n",
    "x = np.arange(1, len(keep_variables))\n",
    "y = wealth_corr.values[1:]\n",
    "\n",
    "LABELS = wealth_corr.index.values\n",
    "\n",
    "# Array to identify variables whose correlation\n",
    "# is greater than 0.6. Exclude variable 'poi'\n",
    "high_corr = np.array(wealth_corr > 0.6)[1:]\n",
    "\n"
   ]
  },
  {
   "cell_type": "code",
   "execution_count": 15,
   "metadata": {
    "collapsed": false
   },
   "outputs": [
    {
     "data": {
      "image/png": "[encoded data removed]",
      "text/plain": [
       "<matplotlib.figure.Figure at 0x11742dc50>"
      ]
     },
     "metadata": {},
     "output_type": "display_data"
    }
   ],
   "source": [
    "plt.figure(figsize=(15,5))\n",
    "\n",
    "# Enable drawing of multiple graphs on one plot\n",
    "plt.hold(True)\n",
    "\n",
    "\n",
    "# Plot low correlation\n",
    "plt.bar(x[~high_corr], y[~high_corr], align = 'center', color = '#a3d7ff')\n",
    "\n",
    "# Plot high correlation\n",
    "plt.bar(x[high_corr], y[high_corr], align = 'center', color = '#ffb2b2')\n",
    "\n",
    "# Add labels\n",
    "plt.xticks(x, LABELS, rotation = 'vertical')\n",
    "plt.axhline(y = 0.6, color = 'black',\n",
    "            linewidth = 0.5,\n",
    "            linestyle = 'dashed')\n",
    "plt.show()"
   ]
  },
  {
   "cell_type": "markdown",
   "metadata": {},
   "source": [
    "I therefore remove <i>log_wealth</i> and <i>sqrt_wealth</i> from the list of variables."
   ]
  },
  {
   "cell_type": "code",
   "execution_count": 16,
   "metadata": {
    "collapsed": false
   },
   "outputs": [],
   "source": [
    "# Remove log_wealth and wealth\n",
    "keep_variables = [x for x in keep_variables if x not in ['wealth', 'log_wealth']]"
   ]
  },
  {
   "cell_type": "markdown",
   "metadata": {},
   "source": [
    "In addition, I would like to highlight five features which actually have a p-value greater than 5% (in an ANOVA test against leabel features). Two of them are actually variables I have created. Also, three of these variable do actually refer to the concept of 'email sent' (i.e. <i>from_messages</i>, <i>from_this_person_to_poi</i>, and <i>from_poi_ratio</i>).<br>\n",
    "Let me go through each one of them:\n",
    "<ul>\n",
    "    <li><b>from_this_person_to_poi</b>, i.e. the amount of e-mail sent to a POI does not seem be statistically different between POI and non-POI;</li>\n",
    "    <li><b>from_poi_ratio</b>, i.e. the amount of e-mail sent to a POI (as a ratio to the total amount of email sent) does not seem be statistically different between POI and non-POI;</li>\n",
    "    <li><b>log_exercised_stock_options</b>, i.e. the log-transformation of the amount (in USD) of stock options which have been exercised;</li>\n",
    "    <li><b>exercised_ratio</b>, i.e. the amount of stock options exercised (as a ratio to the total amount of stock options);</li>\n",
    "    <li><b>from_messages</b>, i.e. the total amount of e-mail sent from this person.</li>\n",
    "</ul>\n",
    "<br>\n",
    "Given their low importance, I will remove these variables from the list."
   ]
  },
  {
   "cell_type": "code",
   "execution_count": 17,
   "metadata": {
    "collapsed": true
   },
   "outputs": [],
   "source": [
    "remove = ['from_this_person_to_poi',\n",
    "          'from_poi_ratio',\n",
    "          'log_exercised_stock_options',\n",
    "          'exercised_ratio',\n",
    "          'from_messages']\n",
    "\n",
    "keep_variables = [x for x in keep_variables if x not in remove]"
   ]
  },
  {
   "cell_type": "markdown",
   "metadata": {
    "slideshow": {
     "slide_type": "slide"
    }
   },
   "source": [
    "#### New features and labels\n",
    "I am now re-extracting features and labels, using the new <i>keep_variables</i> list."
   ]
  },
  {
   "cell_type": "code",
   "execution_count": 18,
   "metadata": {
    "collapsed": true,
    "slideshow": {
     "slide_type": "slide"
    }
   },
   "outputs": [],
   "source": [
    "data = featureFormat(my_dataset, keep_variables, sort_keys=True)\n",
    "labels, features = targetFeatureSplit(data)"
   ]
  },
  {
   "cell_type": "markdown",
   "metadata": {
    "slideshow": {
     "slide_type": "slide"
    }
   },
   "source": [
    "### 8. Scale features using MinMax scaler\n",
    "Here I am using the MinMax scaler in sklearn. I am going to fit and transform all the features."
   ]
  },
  {
   "cell_type": "code",
   "execution_count": 19,
   "metadata": {
    "collapsed": false,
    "slideshow": {
     "slide_type": "slide"
    }
   },
   "outputs": [],
   "source": [
    "# Initialise the scaler\n",
    "scaler = MinMaxScaler()\n",
    "\n",
    "# Fit and transform\n",
    "features = scaler.fit_transform(features)"
   ]
  },
  {
   "cell_type": "markdown",
   "metadata": {},
   "source": [
    "In the future, <b>however</b>, I will add the scaling as part of a pipeline. This is mainly due to the fact that `tester.py`, i.e. the script used to evaluate this project, does not use scaling by default, so I either had to change the script or add the scaling algorithm to the pipeline. I chose for the latter."
   ]
  },
  {
   "cell_type": "markdown",
   "metadata": {},
   "source": [
    "### 9. Define list of classifiers\n",
    "The algorithms I will use are:\n",
    "<ul>\n",
    "    <li>Gaussian Naive Bayes;</li>\n",
    "    <li>Support Vector Machine (SVM);</li>\n",
    "    <li>Decision Tree;</li>\n",
    "    <li>Random Forest;</li>\n",
    "    <li>Boosted model with AdaBoost;</li>\n",
    "    <li>Clustering K Nearest Neighbors;</li>\n",
    "    <li>Clustering BallTree;</li>\n",
    "    <li>Logistic Regression.</li>\n",
    "</ul>   "
   ]
  },
  {
   "cell_type": "markdown",
   "metadata": {},
   "source": [
    "I will create a list of tuples to store information about each classifier. Each tuples will hold a <i>classifier</i>, i.e. an instance of the classifier itself and a dictionary with its parameters."
   ]
  },
  {
   "cell_type": "code",
   "execution_count": 20,
   "metadata": {
    "collapsed": false
   },
   "outputs": [],
   "source": [
    "# Define the list of classifiers\n",
    "classifiers = []\n",
    "\n",
    "# Initialise NB classifier. NB does not take any parameter\n",
    "NB_classifier = GaussianNB()\n",
    "NB_params = {}\n",
    "classifiers.append(clf_builder.dict_builder(NB_classifier, NB_params))\n",
    "\n",
    "# Initialise SVM classifier.\n",
    "SVM_classifier = SVC(class_weight = 'balanced', probability = True, random_state=42)\n",
    "SVM_params = {'kernel' : ['linear', 'sigmoid', 'rbf'],\n",
    "              'gamma' : [10**-4, 10**-3, 10**-2, 10**-1, 10**0,\n",
    "                     10**1, 10**2, 10**3, 10**4],\n",
    "              'C' : [10**-4, 10**-3, 10**-2, 10**-1, 10**0,\n",
    "                     10**1, 10**2, 10**3, 10**4]}\n",
    "classifiers.append(clf_builder.dict_builder(SVM_classifier, SVM_params))\n",
    "\n",
    "# Decision Tree\n",
    "DT_classifier = DTC(class_weight = 'balanced', random_state=42)\n",
    "DT_params = {'criterion' : ['gini', 'entropy'],\n",
    "             'max_features' : [2,3,4,5,6,7,8,9,10, None, 'sqrt', 'log2'],\n",
    "             'min_samples_split' : [2, 5, 10, 15, 20, 25, 30]}\n",
    "classifiers.append(clf_builder.dict_builder(DT_classifier, DT_params))\n",
    "\n",
    "# K Nearest Neighbors\n",
    "KNC_classifier = KNC()\n",
    "KNC_params = {'n_neighbors' : [3,5,6,7,8,9,10],\n",
    "              'weights' : ['uniform', 'distance']}\n",
    "classifiers.append(clf_builder.dict_builder(KNC_classifier, KNC_params))\n",
    "\n",
    "# Ball Tree\n",
    "BT_classifier = KNC(algorithm = 'ball_tree')\n",
    "BT_params = {'n_neighbors' : [3,5,6,7,8,9,10],\n",
    "              'weights' : ['uniform', 'distance']}\n",
    "classifiers.append(clf_builder.dict_builder(BT_classifier, BT_params))\n",
    "\n",
    "# Logistic Regression\n",
    "LR_classifier = LR(class_weight = 'balanced', random_state=42)\n",
    "LR_params = {'C' : [10**-4, 10**-3, 10**-2, 10**-1, 10**0,\n",
    "                     10**1, 10**2, 10**3, 10**4]}\n",
    "classifiers.append(clf_builder.dict_builder(LR_classifier, LR_params))"
   ]
  },
  {
   "cell_type": "markdown",
   "metadata": {},
   "source": [
    "#### OOB Errors for ensemble classifiers\n",
    "For Random Forest, I want to deep dive on the out-of-bag error estimates and check for the number of estimators after which the error seems to stabilize. I am referring to a code I have found [here](http://scikit-learn.org/stable/auto_examples/ensemble/plot_ensemble_oob.html#sphx-glr-auto-examples-ensemble-plot-ensemble-oob-py).\n",
    "<br>\n",
    "<br>\n",
    "It seems that the out-of-bag error stabilizes after 200-250 estimators have been used. Also note that the error is quite small anyway, between 0.135 and 0.145. I am actually pretty happy to use a number of estimator equal to 100."
   ]
  },
  {
   "cell_type": "code",
   "execution_count": 21,
   "metadata": {
    "collapsed": false
   },
   "outputs": [
    {
     "name": "stdout",
     "output_type": "stream",
     "text": [
      "\n",
      "Processing.............................................\n",
      "Completed!"
     ]
    },
    {
     "data": {
      "image/png": "[encoded data removed]",
      "text/plain": [
       "<matplotlib.figure.Figure at 0x11ac949d0>"
      ]
     },
     "metadata": {},
     "output_type": "display_data"
    }
   ],
   "source": [
    "RANDOM_STATE = 42\n",
    "\n",
    "ensemble_clfs = [\n",
    "    (\"RandomForestClassifier, max_features='sqrt'\",\n",
    "        RFC(oob_score=True,\n",
    "            class_weight = 'balanced',\n",
    "            max_features=\"sqrt\",\n",
    "            random_state=RANDOM_STATE)),\n",
    "    (\"RandomForestClassifier, max_features='log2'\",\n",
    "        RFC(max_features='log2',\n",
    "            class_weight = 'balanced',\n",
    "            oob_score=True,\n",
    "            random_state=RANDOM_STATE)),\n",
    "    (\"RandomForestClassifier, max_features=None\",\n",
    "        RFC(max_features=None,\n",
    "            class_weight = 'balanced',\n",
    "            oob_score=True,\n",
    "            random_state=RANDOM_STATE))\n",
    "]\n",
    "\n",
    "# Map a classifier name to a list of (<n_estimators>, <error rate>) pairs.\n",
    "error_rate = OrderedDict((label, []) for label, _ in ensemble_clfs)\n",
    "\n",
    "# Range of `n_estimators` values to explore.\n",
    "min_estimators = 15\n",
    "max_estimators = 300\n",
    "first = True\n",
    "\n",
    "for label, clf in ensemble_clfs:\n",
    "    for i in range(min_estimators, max_estimators + 1):\n",
    "        clf.set_params(n_estimators=i)\n",
    "        clf.fit(features, labels)\n",
    "\n",
    "        # Record the OOB error for each `n_estimators=i` setting.\n",
    "        oob_error = 1 - clf.oob_score_\n",
    "        error_rate[label].append((i, oob_error))\n",
    "        if i % 20 == 0:\n",
    "            if first:\n",
    "                sys.stdout.write('\\nProcessing')\n",
    "            sys.stdout.write('.')\n",
    "            sys.stdout.flush()\n",
    "            first = False\n",
    "\n",
    "sys.stdout.write('\\nCompleted!')\n",
    "            \n",
    "# Generate the \"OOB error rate\" vs. \"n_estimators\" plot.\n",
    "f, ax = plt.subplots(figsize=(10,5))\n",
    "for label, clf_err in error_rate.items():\n",
    "    xs, ys = zip(*clf_err)\n",
    "    ax.plot(xs, ys, label=label)\n",
    "\n",
    "\n",
    "plt.xlim(min_estimators, max_estimators)\n",
    "plt.ylim(0.12, 0.2)\n",
    "plt.title('OOB Error for Random Forest')\n",
    "plt.xlabel(\"n_estimators\")\n",
    "plt.ylabel(\"OOB error rate\")\n",
    "plt.legend(loc=\"upper right\")\n",
    "plt.show()"
   ]
  },
  {
   "cell_type": "code",
   "execution_count": 21,
   "metadata": {
    "collapsed": true
   },
   "outputs": [],
   "source": [
    "# Random Forest\n",
    "RF_classifier = RFC(class_weight='balanced', oob_score = True, n_estimators = 100)\n",
    "RF_params = {'criterion' : ['gini', 'entropy'],\n",
    "             'max_features' : [2,3,4,5,6,7,8,9,10, None, 'sqrt', 'log2'],\n",
    "             'min_samples_split' : [2, 5, 10, 15, 20, 25, 30]}\n",
    "classifiers.append(clf_builder.dict_builder(RF_classifier, RF_params))\n",
    "\n",
    "# AdaBoost Classifier\n",
    "AB_classifier = ABC(n_estimators = 100)\n",
    "AB_params = {'learning_rate' : [0.5, 0.6, 0.7, 0.75, 1]}\n",
    "classifiers.append(clf_builder.dict_builder(AB_classifier, AB_params))"
   ]
  },
  {
   "cell_type": "markdown",
   "metadata": {},
   "source": [
    "### 10. Optimise parameters\n",
    "Here I will perform optimisation of classifier parameters. I am using the functions defined in `optimiser.py`. I am optimising on <i>f1</i> score."
   ]
  },
  {
   "cell_type": "code",
   "execution_count": 22,
   "metadata": {
    "collapsed": false
   },
   "outputs": [
    {
     "name": "stdout",
     "output_type": "stream",
     "text": [
      "GaussianNB in progress...........Completed!\n",
      "SVC in progress"
     ]
    },
    {
     "name": "stderr",
     "output_type": "stream",
     "text": [
      "/Applications/anaconda/lib/python2.7/site-packages/sklearn/metrics/classification.py:1074: UndefinedMetricWarning: F-score is ill-defined and being set to 0.0 due to no predicted samples.\n",
      "  'precision', 'predicted', average, warn_for)\n"
     ]
    },
    {
     "name": "stdout",
     "output_type": "stream",
     "text": [
      "...........Completed!\n",
      "DecisionTreeClassifier in progress...........Completed!\n",
      "KNeighborsClassifier in progress...........Completed!\n",
      "KNeighborsClassifier in progress...........Completed!\n",
      "LogisticRegression in progress...........Completed!\n",
      "RandomForestClassifier in progress...........Completed!\n",
      "AdaBoostClassifier in progress...........Completed!\n"
     ]
    }
   ],
   "source": [
    "opt_no_pca = opt.optimise_list(classifiers,\n",
    "                               features,\n",
    "                               labels)"
   ]
  },
  {
   "cell_type": "code",
   "execution_count": 23,
   "metadata": {
    "collapsed": false
   },
   "outputs": [
    {
     "name": "stdout",
     "output_type": "stream",
     "text": [
      "GaussianNB in progress...........Completed!\n",
      "SVC in progress...........Completed!\n",
      "DecisionTreeClassifier in progress...........Completed!\n",
      "KNeighborsClassifier in progress...........Completed!\n",
      "KNeighborsClassifier in progress...........Completed!\n",
      "LogisticRegression in progress...........Completed!\n",
      "RandomForestClassifier in progress...........Completed!\n",
      "AdaBoostClassifier in progress...........Completed!\n"
     ]
    }
   ],
   "source": [
    "opt_pca = opt.optimise_list(classifiers,\n",
    "                            features,\n",
    "                            labels,\n",
    "                            pca_bool = True)"
   ]
  },
  {
   "cell_type": "markdown",
   "metadata": {},
   "source": [
    "### 11. Evaluate classifiers\n",
    "It is time to evaluate the algorithms now. I will use StratifiedShuffleSplit (on 1000 different samples). Part of the code is actually the same as <i>tester.py</i> as provided in the course. I am using the functions defined in the module `evaluate.py`."
   ]
  },
  {
   "cell_type": "code",
   "execution_count": 24,
   "metadata": {
    "collapsed": false
   },
   "outputs": [],
   "source": [
    "clfs_list = opt_no_pca + opt_pca"
   ]
  },
  {
   "cell_type": "code",
   "execution_count": 25,
   "metadata": {
    "collapsed": false,
    "scrolled": true
   },
   "outputs": [
    {
     "name": "stdout",
     "output_type": "stream",
     "text": [
      "GaussianNB in progress"
     ]
    },
    {
     "name": "stderr",
     "output_type": "stream",
     "text": [
      "/Applications/anaconda/lib/python2.7/site-packages/sklearn/metrics/classification.py:1074: UndefinedMetricWarning: Precision is ill-defined and being set to 0.0 due to no predicted samples.\n",
      "  'precision', 'predicted', average, warn_for)\n"
     ]
    },
    {
     "name": "stdout",
     "output_type": "stream",
     "text": [
      "...........Completed!\n",
      "SVC in progress...........Completed!\n",
      "DecisionTreeClassifier in progress...........Completed!\n",
      "KNeighborsClassifier in progress...........Completed!\n",
      "KNeighborsClassifier in progress...........Completed!\n",
      "LogisticRegression in progress...........Completed!\n",
      "RandomForestClassifier in progress...........Completed!\n",
      "AdaBoostClassifier in progress...........Completed!\n",
      "GaussianNB__pca in progress...........Completed!\n",
      "SVC__pca in progress...........Completed!\n",
      "DecisionTreeClassifier__pca in progress...........Completed!\n",
      "KNeighborsClassifier__pca in progress...........Completed!\n",
      "KNeighborsClassifier__pca in progress...........Completed!\n",
      "LogisticRegression__pca in progress...........Completed!\n",
      "RandomForestClassifier__pca in progress...........Completed!\n",
      "AdaBoostClassifier__pca in progress...........Completed!\n"
     ]
    },
    {
     "data": {
      "text/html": [
       "<div>\n",
       "<table border=\"1\" class=\"dataframe\">\n",
       "  <thead>\n",
       "    <tr style=\"text-align: right;\">\n",
       "      <th></th>\n",
       "      <th>name</th>\n",
       "      <th>accuracy</th>\n",
       "      <th>precision</th>\n",
       "      <th>recall</th>\n",
       "      <th>f1</th>\n",
       "    </tr>\n",
       "  </thead>\n",
       "  <tbody>\n",
       "    <tr>\n",
       "      <th>1</th>\n",
       "      <td>SVC</td>\n",
       "      <td>0.810429</td>\n",
       "      <td>0.456336</td>\n",
       "      <td>0.7885</td>\n",
       "      <td>0.553282</td>\n",
       "    </tr>\n",
       "    <tr>\n",
       "      <th>14</th>\n",
       "      <td>RandomForestClassifier__pca</td>\n",
       "      <td>0.824357</td>\n",
       "      <td>0.450733</td>\n",
       "      <td>0.6005</td>\n",
       "      <td>0.485046</td>\n",
       "    </tr>\n",
       "    <tr>\n",
       "      <th>2</th>\n",
       "      <td>DecisionTreeClassifier</td>\n",
       "      <td>0.771286</td>\n",
       "      <td>0.382725</td>\n",
       "      <td>0.7445</td>\n",
       "      <td>0.481528</td>\n",
       "    </tr>\n",
       "    <tr>\n",
       "      <th>5</th>\n",
       "      <td>LogisticRegression</td>\n",
       "      <td>0.815071</td>\n",
       "      <td>0.422079</td>\n",
       "      <td>0.6160</td>\n",
       "      <td>0.476142</td>\n",
       "    </tr>\n",
       "    <tr>\n",
       "      <th>9</th>\n",
       "      <td>SVC__pca</td>\n",
       "      <td>0.762571</td>\n",
       "      <td>0.383110</td>\n",
       "      <td>0.6995</td>\n",
       "      <td>0.467872</td>\n",
       "    </tr>\n",
       "    <tr>\n",
       "      <th>13</th>\n",
       "      <td>LogisticRegression__pca</td>\n",
       "      <td>0.778786</td>\n",
       "      <td>0.372953</td>\n",
       "      <td>0.6060</td>\n",
       "      <td>0.435889</td>\n",
       "    </tr>\n",
       "    <tr>\n",
       "      <th>10</th>\n",
       "      <td>DecisionTreeClassifier__pca</td>\n",
       "      <td>0.790429</td>\n",
       "      <td>0.346523</td>\n",
       "      <td>0.4660</td>\n",
       "      <td>0.372526</td>\n",
       "    </tr>\n",
       "    <tr>\n",
       "      <th>6</th>\n",
       "      <td>RandomForestClassifier</td>\n",
       "      <td>0.858214</td>\n",
       "      <td>0.409200</td>\n",
       "      <td>0.3360</td>\n",
       "      <td>0.348938</td>\n",
       "    </tr>\n",
       "    <tr>\n",
       "      <th>7</th>\n",
       "      <td>AdaBoostClassifier</td>\n",
       "      <td>0.837714</td>\n",
       "      <td>0.348571</td>\n",
       "      <td>0.3220</td>\n",
       "      <td>0.315146</td>\n",
       "    </tr>\n",
       "    <tr>\n",
       "      <th>8</th>\n",
       "      <td>GaussianNB__pca</td>\n",
       "      <td>0.862000</td>\n",
       "      <td>0.345583</td>\n",
       "      <td>0.2305</td>\n",
       "      <td>0.267133</td>\n",
       "    </tr>\n",
       "    <tr>\n",
       "      <th>15</th>\n",
       "      <td>AdaBoostClassifier__pca</td>\n",
       "      <td>0.824357</td>\n",
       "      <td>0.292133</td>\n",
       "      <td>0.2505</td>\n",
       "      <td>0.254300</td>\n",
       "    </tr>\n",
       "    <tr>\n",
       "      <th>11</th>\n",
       "      <td>KNeighborsClassifier__pca</td>\n",
       "      <td>0.810071</td>\n",
       "      <td>0.240983</td>\n",
       "      <td>0.2155</td>\n",
       "      <td>0.214979</td>\n",
       "    </tr>\n",
       "    <tr>\n",
       "      <th>12</th>\n",
       "      <td>KNeighborsClassifier__pca</td>\n",
       "      <td>0.810071</td>\n",
       "      <td>0.240983</td>\n",
       "      <td>0.2155</td>\n",
       "      <td>0.214979</td>\n",
       "    </tr>\n",
       "    <tr>\n",
       "      <th>0</th>\n",
       "      <td>GaussianNB</td>\n",
       "      <td>0.818357</td>\n",
       "      <td>0.241117</td>\n",
       "      <td>0.2105</td>\n",
       "      <td>0.211764</td>\n",
       "    </tr>\n",
       "    <tr>\n",
       "      <th>3</th>\n",
       "      <td>KNeighborsClassifier</td>\n",
       "      <td>0.849429</td>\n",
       "      <td>0.056833</td>\n",
       "      <td>0.0295</td>\n",
       "      <td>0.038567</td>\n",
       "    </tr>\n",
       "    <tr>\n",
       "      <th>4</th>\n",
       "      <td>KNeighborsClassifier</td>\n",
       "      <td>0.849429</td>\n",
       "      <td>0.056833</td>\n",
       "      <td>0.0295</td>\n",
       "      <td>0.038567</td>\n",
       "    </tr>\n",
       "  </tbody>\n",
       "</table>\n",
       "</div>"
      ],
      "text/plain": [
       "                           name  accuracy  precision  recall        f1\n",
       "1                           SVC  0.810429   0.456336  0.7885  0.553282\n",
       "14  RandomForestClassifier__pca  0.824357   0.450733  0.6005  0.485046\n",
       "2        DecisionTreeClassifier  0.771286   0.382725  0.7445  0.481528\n",
       "5            LogisticRegression  0.815071   0.422079  0.6160  0.476142\n",
       "9                      SVC__pca  0.762571   0.383110  0.6995  0.467872\n",
       "13      LogisticRegression__pca  0.778786   0.372953  0.6060  0.435889\n",
       "10  DecisionTreeClassifier__pca  0.790429   0.346523  0.4660  0.372526\n",
       "6        RandomForestClassifier  0.858214   0.409200  0.3360  0.348938\n",
       "7            AdaBoostClassifier  0.837714   0.348571  0.3220  0.315146\n",
       "8               GaussianNB__pca  0.862000   0.345583  0.2305  0.267133\n",
       "15      AdaBoostClassifier__pca  0.824357   0.292133  0.2505  0.254300\n",
       "11    KNeighborsClassifier__pca  0.810071   0.240983  0.2155  0.214979\n",
       "12    KNeighborsClassifier__pca  0.810071   0.240983  0.2155  0.214979\n",
       "0                    GaussianNB  0.818357   0.241117  0.2105  0.211764\n",
       "3          KNeighborsClassifier  0.849429   0.056833  0.0295  0.038567\n",
       "4          KNeighborsClassifier  0.849429   0.056833  0.0295  0.038567"
      ]
     },
     "execution_count": 25,
     "metadata": {},
     "output_type": "execute_result"
    }
   ],
   "source": [
    "evaluate.clf_ranking(clfs_list, features, labels)"
   ]
  },
  {
   "cell_type": "markdown",
   "metadata": {},
   "source": [
    "It seems that SVC is the best classifier. In particular, it has a very high recall, which is something I am interested in since I am trying to - actually - recall as many POF as possible.\n",
    "<br>\n",
    "Random Forest (with PCA), Decision Tree and Logistic Regression has also very good classifiers."
   ]
  },
  {
   "cell_type": "markdown",
   "metadata": {},
   "source": [
    "#### Optimising for `tester.py`\n",
    "By looking at the code in `tester.py`, I noticed that this script is evaluating an algorithm globally, i.e. it is measuring true/false positives/negatives and then calculating the various ratios for all predictions.\n",
    "<br>In my code, I am optimising the classifiers using the `sklearn.metrics` module where metrics are calculated on a specified label position. For binary classifications, the default label is 1, i.e. metrics are calculated (by default) on the 1 value. In other words, the precision, recall, f1, etc. I am optimising the classifiers on are those of POI positive values (I am only looking at the 1s). `tester.py`, on the contrary, is looking at the global (unweighted) performance of the classifiers.\n",
    "<br>\n",
    "<br>\n",
    "In theory, I would like to keep on optimising on POI only (i.e. optimising metrics on poi equal to 1). <b>However</b>, I am conscious that this project is graded by looking at the results of the `tester.py` code. Therefore, I am re-optimising the algorithms on <i>f1_micro</i>, i.e. f1 unweighted global score. I am then using a modified version of the `tester.py` script (similar to `evaluate_clf_list`)."
   ]
  },
  {
   "cell_type": "code",
   "execution_count": 26,
   "metadata": {
    "collapsed": false
   },
   "outputs": [
    {
     "name": "stdout",
     "output_type": "stream",
     "text": [
      "GaussianNB in progress...........Completed!\n",
      "SVC in progress...........Completed!\n",
      "DecisionTreeClassifier in progress...........Completed!\n",
      "KNeighborsClassifier in progress...........Completed!\n",
      "KNeighborsClassifier in progress...........Completed!\n",
      "LogisticRegression in progress...........Completed!\n",
      "RandomForestClassifier in progress...........Completed!\n",
      "AdaBoostClassifier in progress...........Completed!\n"
     ]
    }
   ],
   "source": [
    "mod_opt_no_pca = opt.optimise_list(classifiers,\n",
    "                                   features,\n",
    "                                   labels,\n",
    "                                   scoring = 'f1_micro')"
   ]
  },
  {
   "cell_type": "code",
   "execution_count": 27,
   "metadata": {
    "collapsed": false
   },
   "outputs": [
    {
     "name": "stdout",
     "output_type": "stream",
     "text": [
      "GaussianNB in progress...........Completed!\n",
      "SVC in progress...........Completed!\n",
      "DecisionTreeClassifier in progress...........Completed!\n",
      "KNeighborsClassifier in progress...........Completed!\n",
      "KNeighborsClassifier in progress...........Completed!\n",
      "LogisticRegression in progress...........Completed!\n",
      "RandomForestClassifier in progress...........Completed!\n",
      "AdaBoostClassifier in progress...........Completed!\n"
     ]
    }
   ],
   "source": [
    "mod_opt_pca = opt.optimise_list(classifiers,\n",
    "                                features,\n",
    "                                labels,\n",
    "                                pca_bool = True,\n",
    "                                scoring = 'f1_micro')"
   ]
  },
  {
   "cell_type": "code",
   "execution_count": 28,
   "metadata": {
    "collapsed": true
   },
   "outputs": [],
   "source": [
    "mod_list = mod_opt_no_pca + mod_opt_pca"
   ]
  },
  {
   "cell_type": "code",
   "execution_count": 29,
   "metadata": {
    "collapsed": false
   },
   "outputs": [
    {
     "name": "stdout",
     "output_type": "stream",
     "text": [
      "GaussianNB in progress...........Completed!\n",
      "SVC in progress...........Completed!\n",
      "DecisionTreeClassifier in progress...........Completed!\n",
      "KNeighborsClassifier in progress...........Completed!\n",
      "KNeighborsClassifier in progress...........Completed!\n",
      "LogisticRegression in progress...........Completed!\n",
      "RandomForestClassifier in progress...........Completed!\n",
      "AdaBoostClassifier in progress...........Completed!\n",
      "GaussianNB__pca in progress...........Completed!\n",
      "SVC__pca in progress...........Completed!\n",
      "DecisionTreeClassifier__pca in progress...........Completed!\n",
      "KNeighborsClassifier__pca in progress...........Completed!\n",
      "KNeighborsClassifier__pca in progress...........Completed!\n",
      "LogisticRegression__pca in progress...........Completed!\n",
      "RandomForestClassifier__pca in progress...........Completed!\n",
      "AdaBoostClassifier__pca in progress...........Completed!\n"
     ]
    },
    {
     "data": {
      "text/html": [
       "<div>\n",
       "<table border=\"1\" class=\"dataframe\">\n",
       "  <thead>\n",
       "    <tr style=\"text-align: right;\">\n",
       "      <th></th>\n",
       "      <th>name</th>\n",
       "      <th>accuracy</th>\n",
       "      <th>precision</th>\n",
       "      <th>recall</th>\n",
       "      <th>f1</th>\n",
       "    </tr>\n",
       "  </thead>\n",
       "  <tbody>\n",
       "    <tr>\n",
       "      <th>5</th>\n",
       "      <td>LogisticRegression</td>\n",
       "      <td>0.815071</td>\n",
       "      <td>0.403538</td>\n",
       "      <td>0.6160</td>\n",
       "      <td>0.487631</td>\n",
       "    </tr>\n",
       "    <tr>\n",
       "      <th>13</th>\n",
       "      <td>LogisticRegression__pca</td>\n",
       "      <td>0.771214</td>\n",
       "      <td>0.331087</td>\n",
       "      <td>0.5895</td>\n",
       "      <td>0.424024</td>\n",
       "    </tr>\n",
       "    <tr>\n",
       "      <th>2</th>\n",
       "      <td>DecisionTreeClassifier</td>\n",
       "      <td>0.837071</td>\n",
       "      <td>0.424584</td>\n",
       "      <td>0.3955</td>\n",
       "      <td>0.409526</td>\n",
       "    </tr>\n",
       "    <tr>\n",
       "      <th>6</th>\n",
       "      <td>RandomForestClassifier</td>\n",
       "      <td>0.859643</td>\n",
       "      <td>0.513208</td>\n",
       "      <td>0.3400</td>\n",
       "      <td>0.409023</td>\n",
       "    </tr>\n",
       "    <tr>\n",
       "      <th>7</th>\n",
       "      <td>AdaBoostClassifier</td>\n",
       "      <td>0.837857</td>\n",
       "      <td>0.413239</td>\n",
       "      <td>0.3215</td>\n",
       "      <td>0.361642</td>\n",
       "    </tr>\n",
       "    <tr>\n",
       "      <th>8</th>\n",
       "      <td>GaussianNB__pca</td>\n",
       "      <td>0.862000</td>\n",
       "      <td>0.539813</td>\n",
       "      <td>0.2305</td>\n",
       "      <td>0.323055</td>\n",
       "    </tr>\n",
       "    <tr>\n",
       "      <th>9</th>\n",
       "      <td>SVC__pca</td>\n",
       "      <td>0.866786</td>\n",
       "      <td>0.607656</td>\n",
       "      <td>0.1905</td>\n",
       "      <td>0.290065</td>\n",
       "    </tr>\n",
       "    <tr>\n",
       "      <th>10</th>\n",
       "      <td>DecisionTreeClassifier__pca</td>\n",
       "      <td>0.812500</td>\n",
       "      <td>0.297996</td>\n",
       "      <td>0.2305</td>\n",
       "      <td>0.259938</td>\n",
       "    </tr>\n",
       "    <tr>\n",
       "      <th>0</th>\n",
       "      <td>GaussianNB</td>\n",
       "      <td>0.818357</td>\n",
       "      <td>0.303971</td>\n",
       "      <td>0.2105</td>\n",
       "      <td>0.248744</td>\n",
       "    </tr>\n",
       "    <tr>\n",
       "      <th>1</th>\n",
       "      <td>SVC</td>\n",
       "      <td>0.860643</td>\n",
       "      <td>0.543210</td>\n",
       "      <td>0.1540</td>\n",
       "      <td>0.239969</td>\n",
       "    </tr>\n",
       "    <tr>\n",
       "      <th>15</th>\n",
       "      <td>AdaBoostClassifier__pca</td>\n",
       "      <td>0.817714</td>\n",
       "      <td>0.263293</td>\n",
       "      <td>0.1535</td>\n",
       "      <td>0.193936</td>\n",
       "    </tr>\n",
       "    <tr>\n",
       "      <th>14</th>\n",
       "      <td>RandomForestClassifier__pca</td>\n",
       "      <td>0.833500</td>\n",
       "      <td>0.167002</td>\n",
       "      <td>0.0415</td>\n",
       "      <td>0.066480</td>\n",
       "    </tr>\n",
       "    <tr>\n",
       "      <th>3</th>\n",
       "      <td>KNeighborsClassifier</td>\n",
       "      <td>0.849429</td>\n",
       "      <td>0.261062</td>\n",
       "      <td>0.0295</td>\n",
       "      <td>0.053010</td>\n",
       "    </tr>\n",
       "    <tr>\n",
       "      <th>4</th>\n",
       "      <td>KNeighborsClassifier</td>\n",
       "      <td>0.849429</td>\n",
       "      <td>0.261062</td>\n",
       "      <td>0.0295</td>\n",
       "      <td>0.053010</td>\n",
       "    </tr>\n",
       "    <tr>\n",
       "      <th>11</th>\n",
       "      <td>KNeighborsClassifier__pca</td>\n",
       "      <td>0.834357</td>\n",
       "      <td>0.029499</td>\n",
       "      <td>0.0050</td>\n",
       "      <td>0.008551</td>\n",
       "    </tr>\n",
       "    <tr>\n",
       "      <th>12</th>\n",
       "      <td>KNeighborsClassifier__pca</td>\n",
       "      <td>0.834357</td>\n",
       "      <td>0.029499</td>\n",
       "      <td>0.0050</td>\n",
       "      <td>0.008551</td>\n",
       "    </tr>\n",
       "  </tbody>\n",
       "</table>\n",
       "</div>"
      ],
      "text/plain": [
       "                           name  accuracy  precision  recall        f1\n",
       "5            LogisticRegression  0.815071   0.403538  0.6160  0.487631\n",
       "13      LogisticRegression__pca  0.771214   0.331087  0.5895  0.424024\n",
       "2        DecisionTreeClassifier  0.837071   0.424584  0.3955  0.409526\n",
       "6        RandomForestClassifier  0.859643   0.513208  0.3400  0.409023\n",
       "7            AdaBoostClassifier  0.837857   0.413239  0.3215  0.361642\n",
       "8               GaussianNB__pca  0.862000   0.539813  0.2305  0.323055\n",
       "9                      SVC__pca  0.866786   0.607656  0.1905  0.290065\n",
       "10  DecisionTreeClassifier__pca  0.812500   0.297996  0.2305  0.259938\n",
       "0                    GaussianNB  0.818357   0.303971  0.2105  0.248744\n",
       "1                           SVC  0.860643   0.543210  0.1540  0.239969\n",
       "15      AdaBoostClassifier__pca  0.817714   0.263293  0.1535  0.193936\n",
       "14  RandomForestClassifier__pca  0.833500   0.167002  0.0415  0.066480\n",
       "3          KNeighborsClassifier  0.849429   0.261062  0.0295  0.053010\n",
       "4          KNeighborsClassifier  0.849429   0.261062  0.0295  0.053010\n",
       "11    KNeighborsClassifier__pca  0.834357   0.029499  0.0050  0.008551\n",
       "12    KNeighborsClassifier__pca  0.834357   0.029499  0.0050  0.008551"
      ]
     },
     "execution_count": 29,
     "metadata": {},
     "output_type": "execute_result"
    }
   ],
   "source": [
    "evaluate.clf_ranking(mod_list, features, labels, tester = True)"
   ]
  },
  {
   "cell_type": "markdown",
   "metadata": {},
   "source": [
    "In this case, the best performing algoriths are different. Logistic regression (with and without PCA) are significantly better at recalling POI values. Decision Tree (and its ensemble versions) are also good, although the recall is a bit lower. In this case, SVC, although being more precise, is not very good in terms of recall.\n",
    "<br>\n",
    "The <i>C</i> parameter of the Logistic Regression above is equal to 10000 (in fairness, a pretty high value, which means that the algorithm aims at classifying all training examples correctly)."
   ]
  }
 ],
 "metadata": {
  "kernelspec": {
   "display_name": "Python 2",
   "language": "python",
   "name": "python2"
  },
  "language_info": {
   "codemirror_mode": {
    "name": "ipython",
    "version": 2
   },
   "file_extension": ".py",
   "mimetype": "text/x-python",
   "name": "python",
   "nbconvert_exporter": "python",
   "pygments_lexer": "ipython2",
   "version": "2.7.12"
  }
 },
 "nbformat": 4,
 "nbformat_minor": 0
}
