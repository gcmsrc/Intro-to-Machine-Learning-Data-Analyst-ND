{
 "cells": [
  {
   "cell_type": "markdown",
   "metadata": {},
   "source": [
    "# Outlier Identification"
   ]
  },
  {
   "cell_type": "markdown",
   "metadata": {},
   "source": [
    "## Introduction"
   ]
  },
  {
   "cell_type": "markdown",
   "metadata": {},
   "source": [
    "This notebook has been used to indentify outliers in the dataset. The purpose is that of identifying a <b>list of names</b> that can be used to <i>pop</i> the data dictionary.<br>\n",
    "I am going to use a series of supporting functions, in particular a plotting function (based on matplotlib.pyplot)."
   ]
  },
  {
   "cell_type": "markdown",
   "metadata": {},
   "source": [
    "## Importing data"
   ]
  },
  {
   "cell_type": "markdown",
   "metadata": {},
   "source": [
    "I import the Enron data dictionary and I convert it into a pandas dataframe (indexes correspond to names)."
   ]
  },
  {
   "cell_type": "code",
   "execution_count": 1,
   "metadata": {
    "collapsed": true
   },
   "outputs": [],
   "source": [
    "import pickle\n",
    "import pandas as pd\n",
    "import numpy as np\n",
    "\n",
    "# Charting modules\n",
    "%matplotlib inline\n",
    "import matplotlib.pyplot\n",
    "from ggplot import *\n",
    "\n",
    "# User-created modules\n",
    "import sys\n",
    "sys.path.append('../tools')\n",
    "import dict_parser\n",
    "\n"
   ]
  },
  {
   "cell_type": "code",
   "execution_count": 2,
   "metadata": {
    "collapsed": true
   },
   "outputs": [],
   "source": [
    "with open(\"../data/final_project_dataset.pkl\", \"r\") as data_file:\n",
    "    data_dict = pickle.load(data_file)"
   ]
  },
  {
   "cell_type": "code",
   "execution_count": 3,
   "metadata": {
    "collapsed": false
   },
   "outputs": [
    {
     "name": "stdout",
     "output_type": "stream",
     "text": [
      "['METTS MARK', 365788.0, 807.0, nan, 1061827.0, nan, 600000.0, 585062.0, 702.0, nan, 585062.0, 94299.0, nan, 29.0, 1740.0, 1.0, 0.0, nan, nan, nan, 'mark.metts@enron.com', 38.0]\n",
      "['BAXTER JOHN C', 267102.0, nan, 1295738.0, 5634343.0, 6680544.0, 1200000.0, 3942714.0, nan, nan, 10623258.0, 11200.0, nan, nan, 2660303.0, nan, 0.0, nan, -1386055.0, 1586055.0, 'NaN', nan]\n",
      "['ELLIOTT STEVEN', 170941.0, nan, nan, 211725.0, 4890344.0, 350000.0, 1788391.0, nan, nan, 6678735.0, 78552.0, nan, nan, 12961.0, nan, 0.0, nan, -400729.0, nan, 'steven.elliott@enron.com', nan]\n",
      "['CORDES WILLIAM R', nan, 764.0, nan, nan, 651850.0, nan, 386335.0, 58.0, nan, 1038185.0, nan, nan, 12.0, nan, 0.0, 0.0, nan, nan, nan, 'bill.cordes@enron.com', 10.0]\n",
      "['HANNON KEVIN P', 243293.0, 1045.0, nan, 288682.0, 5538001.0, 1500000.0, 853064.0, 1035.0, nan, 6391065.0, 34039.0, nan, 32.0, 11350.0, 21.0, 1.0, nan, -3117011.0, 1617011.0, 'kevin.hannon@enron.com', 32.0]\n",
      "['MORDAUNT KRISTINA M', 267093.0, nan, nan, 628522.0, nan, 325000.0, 208510.0, nan, nan, 208510.0, 35018.0, nan, nan, 1411.0, nan, 0.0, nan, nan, nan, 'kristina.mordaunt@enron.com', nan]\n",
      "['MEYER ROCKFORD G', nan, 232.0, 1848227.0, 1848227.0, 493489.0, nan, 462384.0, 22.0, nan, 955873.0, nan, nan, 28.0, nan, 0.0, 0.0, nan, nan, nan, 'rockford.meyer@enron.com', 0.0]\n",
      "['MCMAHON JEFFREY', 370448.0, 2355.0, nan, 4099771.0, 1104054.0, 2600000.0, 558801.0, 2228.0, nan, 1662855.0, 137108.0, nan, 48.0, 297353.0, 26.0, 0.0, nan, nan, 694862.0, 'jeffrey.mcmahon@enron.com', 58.0]\n",
      "['HORTON STANLEY C', nan, 2350.0, 3131860.0, 3131860.0, 5210569.0, nan, 2046079.0, 1074.0, nan, 7256648.0, nan, nan, 1073.0, nan, 15.0, 0.0, nan, nan, nan, 'stanley.horton@enron.com', 44.0]\n",
      "['PIPER GREGORY F', 197091.0, 1238.0, 1130036.0, 1737629.0, 880290.0, 400000.0, 409554.0, 742.0, -409554.0, 880290.0, 43057.0, nan, 222.0, 778.0, 48.0, 0.0, nan, -33333.0, nan, 'greg.piper@enron.com', 61.0]\n",
      "['HUMPHREY GENE E', 130724.0, 128.0, 2964506.0, 3100224.0, 2282768.0, nan, nan, 119.0, nan, 2282768.0, 4994.0, nan, 17.0, nan, 17.0, 0.0, nan, nan, nan, 'gene.humphrey@enron.com', 10.0]\n",
      "['UMANOFF ADAM S', 288589.0, 111.0, nan, 1130461.0, nan, 788750.0, nan, 41.0, nan, nan, 53122.0, nan, 18.0, nan, 0.0, 0.0, nan, nan, nan, 'adam.umanoff@enron.com', 12.0]\n",
      "['BLACHMAN JEREMY M', 248546.0, 2475.0, nan, 2014835.0, 765313.0, 850000.0, 189041.0, 2326.0, nan, 954354.0, 84208.0, nan, 14.0, 272.0, 2.0, 0.0, nan, nan, 831809.0, 'jeremy.blachman@enron.com', 25.0]\n",
      "['SUNDE MARTIN', 257486.0, 2647.0, nan, 1545059.0, nan, 700000.0, 698920.0, 2565.0, nan, 698920.0, nan, nan, 38.0, 111122.0, 13.0, 0.0, nan, nan, 476451.0, 'marty.sunde@enron.com', 37.0]\n",
      "['GIBBS DANA R', nan, 169.0, 504610.0, 966522.0, 2218275.0, nan, nan, 23.0, nan, 2218275.0, nan, nan, 12.0, nan, 0.0, 0.0, nan, nan, 461912.0, 'dana.gibbs@enron.com', 0.0]\n",
      "['LOWRY CHARLES P', nan, nan, nan, nan, 372205.0, nan, 153686.0, nan, -153686.0, 372205.0, nan, nan, nan, nan, nan, 0.0, nan, nan, nan, 'NaN', nan]\n",
      "['COLWELL WESLEY', 288542.0, 1758.0, 27610.0, 1490344.0, nan, 1200000.0, 698242.0, 1132.0, nan, 698242.0, 16514.0, nan, 40.0, 101740.0, 11.0, 1.0, nan, -144062.0, nan, 'wes.colwell@enron.com', 240.0]\n",
      "['MULLER MARK S', 251654.0, 136.0, 842924.0, 3202070.0, 1056320.0, 1100000.0, 360528.0, 114.0, nan, 1416848.0, nan, nan, 16.0, 947.0, 0.0, 0.0, nan, -719000.0, 1725545.0, 's..muller@enron.com', 12.0]\n",
      "['JACKSON CHARLENE R', 288558.0, 258.0, nan, 551174.0, 185063.0, 250000.0, 540672.0, 117.0, nan, 725735.0, 10181.0, nan, 56.0, 2435.0, 19.0, 0.0, nan, nan, nan, 'charlene.jackson@enron.com', 25.0]\n",
      "['WESTFAHL RICHARD K', 63744.0, nan, nan, 762135.0, nan, nan, 384930.0, nan, nan, 384930.0, 51870.0, nan, nan, 401130.0, nan, 0.0, nan, -10800.0, 256191.0, 'dick.westfahl@enron.com', nan]\n",
      "['WALTERS GARETH W', nan, nan, 53625.0, 87410.0, 1030329.0, nan, nan, nan, nan, 1030329.0, 33785.0, nan, nan, nan, nan, 0.0, nan, nan, nan, 'NaN', nan]\n",
      "['WALLS JR ROBERT H', 357091.0, 671.0, nan, 1798780.0, 4346544.0, 850000.0, 1552453.0, 215.0, nan, 5898997.0, 50936.0, nan, 146.0, 2.0, 0.0, 0.0, nan, nan, 540751.0, 'rob.walls@enron.com', 17.0]\n",
      "['KITCHEN LOUISE', 271442.0, 8305.0, nan, 3471141.0, 81042.0, 3100000.0, 466101.0, 3669.0, nan, 547143.0, 5774.0, nan, 1728.0, 93925.0, 194.0, 0.0, nan, nan, nan, 'louise.kitchen@enron.com', 251.0]\n",
      "['CHAN RONNIE', nan, nan, nan, nan, nan, nan, 32460.0, nan, -32460.0, nan, nan, nan, nan, nan, nan, 0.0, 98784.0, -98784.0, nan, 'NaN', nan]\n",
      "['BELFER ROBERT', nan, nan, -102500.0, 102500.0, 3285.0, nan, nan, nan, 44093.0, -44093.0, nan, nan, nan, nan, nan, 0.0, 3285.0, nan, nan, 'NaN', nan]\n",
      "['SHANKMAN JEFFREY A', 304110.0, 3221.0, nan, 3038702.0, 1441898.0, 2000000.0, 630137.0, 1730.0, nan, 2072035.0, 178979.0, nan, 2681.0, 1191.0, 83.0, 0.0, nan, nan, 554422.0, 'jeffrey.shankman@enron.com', 94.0]\n",
      "['WODRASKA JOHN', nan, nan, nan, 189583.0, nan, nan, nan, nan, nan, nan, nan, nan, nan, 189583.0, nan, 0.0, nan, nan, nan, 'john.wodraska@enron.com', nan]\n",
      "['BERGSIEKER RICHARD P', 187922.0, 383.0, nan, 618850.0, nan, 250000.0, 659249.0, 233.0, nan, 659249.0, 59175.0, nan, 59.0, 427316.0, 0.0, 0.0, nan, -485813.0, 180250.0, 'rick.bergsieker@enron.com', 4.0]\n",
      "['URQUHART JOHN A', nan, nan, nan, 228656.0, nan, nan, nan, nan, nan, nan, 228656.0, nan, nan, nan, nan, 0.0, 36666.0, -36666.0, nan, 'NaN', nan]\n",
      "['BIBI PHILIPPE A', 213625.0, 1607.0, nan, 2047593.0, 1465734.0, 1000000.0, 378082.0, 1336.0, nan, 1843816.0, 38559.0, nan, 40.0, 425688.0, 8.0, 0.0, nan, nan, 369721.0, 'philippe.bibi@enron.com', 23.0]\n",
      "['RIEKER PAULA H', 249201.0, 1328.0, 214678.0, 1099100.0, 1635238.0, 700000.0, 283649.0, 1258.0, nan, 1918887.0, 33271.0, nan, 82.0, 1950.0, 48.0, 1.0, nan, -100000.0, nan, 'paula.rieker@enron.com', 35.0]\n",
      "['WHALEY DAVID A', nan, nan, nan, nan, 98718.0, nan, nan, nan, nan, 98718.0, nan, nan, nan, nan, nan, 0.0, nan, nan, nan, 'NaN', nan]\n",
      "['BECK SALLY W', 231330.0, 7315.0, nan, 969068.0, nan, 700000.0, 126027.0, 2639.0, nan, 126027.0, 37172.0, nan, 4343.0, 566.0, 386.0, 0.0, nan, nan, nan, 'sally.beck@enron.com', 144.0]\n",
      "['HAUG DAVID L', nan, 573.0, nan, 475.0, nan, nan, 2217299.0, 471.0, nan, 2217299.0, 475.0, nan, 19.0, nan, 7.0, 0.0, nan, nan, nan, 'david.haug@enron.com', 4.0]\n",
      "['ECHOLS JOHN B', 182245.0, nan, nan, 2692324.0, 601438.0, 200000.0, 407503.0, nan, nan, 1008941.0, 21530.0, nan, nan, 53775.0, nan, 0.0, nan, nan, 2234774.0, 'john.echols@enron.com', nan]\n",
      "['MENDELSOHN JOHN', nan, nan, nan, 148.0, nan, nan, nan, nan, nan, nan, 148.0, nan, nan, nan, nan, 0.0, 103750.0, -103750.0, nan, 'NaN', nan]\n",
      "['HICKERSON GARY J', 211788.0, 1320.0, nan, 2081796.0, nan, 1700000.0, 441096.0, 900.0, nan, 441096.0, 98849.0, nan, 27.0, 1936.0, 1.0, 0.0, nan, nan, 69223.0, 'gary.hickerson@enron.com', 40.0]\n",
      "['CLINE KENNETH W', nan, nan, nan, nan, nan, nan, 662086.0, nan, -472568.0, 189518.0, nan, nan, nan, nan, nan, 0.0, nan, nan, nan, 'NaN', nan]\n",
      "['LEWIS RICHARD', nan, 952.0, nan, nan, 850477.0, nan, nan, 739.0, nan, 850477.0, nan, nan, 26.0, nan, 0.0, 0.0, nan, nan, nan, 'richard.lewis@enron.com', 10.0]\n",
      "['HAYES ROBERT E', nan, 504.0, 7961.0, 7961.0, nan, nan, 151418.0, 50.0, nan, 151418.0, nan, nan, 12.0, nan, 0.0, 0.0, nan, nan, nan, 'robert.hayes@enron.com', 16.0]\n",
      "['MCCARTY DANNY J', nan, 1433.0, nan, nan, 664375.0, nan, 94556.0, 508.0, nan, 758931.0, nan, nan, 215.0, nan, 2.0, 0.0, nan, nan, nan, 'danny.mccarty@enron.com', 25.0]\n",
      "['KOPPER MICHAEL J', 224305.0, nan, nan, 2652612.0, nan, 800000.0, 985032.0, nan, nan, 985032.0, 118134.0, nan, nan, 907502.0, nan, 1.0, nan, nan, 602671.0, 'michael.kopper@enron.com', nan]\n",
      "['LEFF DANIEL P', 273746.0, 2822.0, nan, 2664228.0, nan, 1000000.0, 360528.0, 2672.0, nan, 360528.0, nan, nan, 63.0, 3083.0, 14.0, 0.0, nan, nan, 1387399.0, 'dan.leff@enron.com', 67.0]\n",
      "['LAVORATO JOHN J', 339288.0, 7259.0, nan, 10425757.0, 4158995.0, 8000000.0, 1008149.0, 3962.0, nan, 5167144.0, 49537.0, nan, 2585.0, 1552.0, 411.0, 0.0, nan, nan, 2035380.0, 'john.lavorato@enron.com', 528.0]\n",
      "['BERBERIAN DAVID', 216582.0, nan, nan, 228474.0, 1624396.0, nan, 869220.0, nan, nan, 2493616.0, 11892.0, nan, nan, nan, nan, 0.0, nan, nan, nan, 'david.berberian@enron.com', nan]\n",
      "['DETMERING TIMOTHY J', 210500.0, nan, 875307.0, 1204583.0, 2027865.0, 425000.0, 315068.0, nan, -315068.0, 2027865.0, 52255.0, nan, nan, 1105.0, nan, 0.0, nan, -775241.0, 415657.0, 'timothy.detmering@enron.com', nan]\n",
      "['WAKEHAM JOHN', nan, nan, nan, 213071.0, nan, nan, nan, nan, nan, nan, 103773.0, nan, nan, nan, nan, 0.0, 109298.0, nan, nan, 'NaN', nan]\n",
      "['POWERS WILLIAM', nan, 653.0, nan, nan, nan, nan, nan, 12.0, nan, nan, nan, nan, 26.0, nan, 0.0, 0.0, 17500.0, -17500.0, nan, 'ken.powers@enron.com', 0.0]\n",
      "['GOLD JOSEPH', 272880.0, nan, nan, 2146973.0, 436515.0, 750000.0, 441096.0, nan, nan, 877611.0, nan, nan, nan, 819288.0, nan, 0.0, nan, nan, 304805.0, 'joe.gold@enron.com', nan]\n",
      "['BANNANTINE JAMES M', 477.0, 566.0, nan, 916197.0, 4046157.0, nan, 1757552.0, 465.0, -560222.0, 5243487.0, 56301.0, nan, 29.0, 864523.0, 0.0, 0.0, nan, -5104.0, nan, 'james.bannantine@enron.com', 39.0]\n",
      "['DUNCAN JOHN H', nan, nan, nan, 77492.0, 371750.0, nan, nan, nan, nan, 371750.0, nan, nan, nan, nan, nan, 0.0, 102492.0, -25000.0, nan, 'NaN', nan]\n",
      "['SHAPIRO RICHARD S', 269076.0, 15149.0, nan, 1057548.0, 607837.0, 650000.0, 379164.0, 4527.0, nan, 987001.0, 137767.0, nan, 1215.0, 705.0, 65.0, 0.0, nan, nan, nan, 'richard.shapiro@enron.com', 74.0]\n",
      "['SHERRIFF JOHN R', 428780.0, 3187.0, nan, 4335388.0, 1835558.0, 1500000.0, 1293424.0, 2103.0, nan, 3128982.0, nan, nan, 92.0, 1852186.0, 23.0, 0.0, nan, nan, 554422.0, 'john.sherriff@enron.com', 28.0]\n",
      "['SHELBY REX', 211844.0, 225.0, nan, 2003885.0, 1624396.0, 200000.0, 869220.0, 91.0, nan, 2493616.0, 22884.0, nan, 39.0, 1573324.0, 14.0, 1.0, nan, -4167.0, nan, 'rex.shelby@enron.com', 13.0]\n",
      "['LEMAISTRE CHARLES', nan, nan, nan, 87492.0, 412878.0, nan, nan, nan, nan, 412878.0, nan, nan, nan, nan, nan, 0.0, 112492.0, -25000.0, nan, 'NaN', nan]\n",
      "['DEFFNER JOSEPH M', 206121.0, 714.0, nan, 1208649.0, 17378.0, 600000.0, 141833.0, 552.0, nan, 159211.0, 41626.0, nan, 74.0, 25553.0, 4.0, 0.0, nan, nan, 335349.0, 'joseph.deffner@enron.com', 115.0]\n",
      "['KISHKILL JOSEPH G', 174246.0, nan, nan, 704896.0, nan, nan, 1034346.0, nan, nan, 1034346.0, 116335.0, nan, nan, 465357.0, nan, 0.0, nan, -51042.0, nan, 'joe.kishkill@enron.com', nan]\n",
      "['WHALLEY LAWRENCE G', 510364.0, 6019.0, nan, 4677574.0, 3282960.0, 3000000.0, 2796177.0, 3920.0, nan, 6079137.0, 57838.0, nan, 556.0, 301026.0, 24.0, 0.0, nan, nan, 808346.0, 'greg.whalley@enron.com', 186.0]\n",
      "['MCCONNELL MICHAEL S', 365038.0, 3329.0, nan, 2101364.0, 1623010.0, 1100000.0, 1478269.0, 2189.0, nan, 3101279.0, 81364.0, nan, 2742.0, 540.0, 194.0, 0.0, nan, nan, 554422.0, 'mike.mcconnell@enron.com', 92.0]\n",
      "['PIRO JIM', nan, 58.0, nan, nan, nan, nan, 47304.0, 3.0, nan, 47304.0, nan, nan, 16.0, nan, 1.0, 0.0, nan, nan, nan, 'jim.piro@enron.com', 0.0]\n",
      "['DELAINEY DAVID W', 365163.0, 3093.0, nan, 4747979.0, 2291113.0, 3000000.0, 1323148.0, 2097.0, nan, 3614261.0, 86174.0, nan, 3069.0, 1661.0, 609.0, 1.0, nan, nan, 1294981.0, 'david.delainey@enron.com', 66.0]\n",
      "['SULLIVAN-SHAKLOVITZ COLLEEN', 162779.0, nan, 181993.0, 999356.0, 1362375.0, 100000.0, nan, nan, nan, 1362375.0, nan, nan, nan, 162.0, nan, 0.0, nan, nan, 554422.0, 'NaN', nan]\n",
      "['WROBEL BRUCE', nan, nan, nan, nan, 139130.0, nan, nan, nan, nan, 139130.0, nan, nan, nan, nan, nan, 0.0, nan, nan, nan, 'NaN', nan]\n",
      "['LINDHOLM TOD A', 236457.0, nan, 204075.0, 875889.0, 2549361.0, 200000.0, 514847.0, nan, nan, 3064208.0, 57727.0, nan, nan, 2630.0, nan, 0.0, nan, nan, 175000.0, 'tod.lindholm@enron.com', nan]\n",
      "['MEYER JEROME J', nan, nan, nan, 2151.0, nan, nan, nan, nan, nan, nan, 2151.0, nan, nan, nan, nan, 0.0, 38346.0, -38346.0, nan, 'NaN', nan]\n",
      "['LAY KENNETH L', 1072321.0, 4273.0, 202911.0, 103559793.0, 34348384.0, 7000000.0, 14761694.0, 2411.0, nan, 49110078.0, 99832.0, 81525000.0, 36.0, 10359729.0, 16.0, 1.0, nan, -300000.0, 3600000.0, 'kenneth.lay@enron.com', 123.0]\n",
      "['BUTTS ROBERT H', 261516.0, nan, nan, 1271582.0, nan, 750000.0, 417619.0, nan, nan, 417619.0, 9410.0, nan, nan, 150656.0, nan, 0.0, nan, -75000.0, 175000.0, 'bob.butts@enron.com', nan]\n",
      "['OLSON CINDY K', 329078.0, 1184.0, 77716.0, 1321557.0, 1637034.0, 750000.0, 969729.0, 856.0, nan, 2606763.0, 63791.0, nan, 52.0, 972.0, 15.0, 0.0, nan, nan, 100000.0, 'cindy.olson@enron.com', 20.0]\n",
      "['MCDONALD REBECCA', nan, 894.0, nan, nan, 757301.0, nan, 934065.0, 720.0, nan, 1691366.0, nan, nan, 13.0, nan, 1.0, 0.0, nan, nan, nan, 'rebecca.mcdonald@enron.com', 54.0]\n",
      "['CUMBERLAND MICHAEL S', 184899.0, nan, nan, 807956.0, nan, 325000.0, 207940.0, nan, nan, 207940.0, 22344.0, nan, nan, 713.0, nan, 0.0, nan, nan, 275000.0, 'NaN', nan]\n",
      "['GAHN ROBERT S', 192008.0, nan, 73122.0, 900585.0, 83237.0, 509870.0, 235370.0, nan, nan, 318607.0, 50080.0, nan, nan, 76547.0, nan, 0.0, nan, -1042.0, nan, 'NaN', nan]\n",
      "['MCCLELLAN GEORGE', 263413.0, 1744.0, nan, 1318763.0, 506765.0, 900000.0, 441096.0, 1469.0, nan, 947861.0, 228763.0, nan, 49.0, 51587.0, 0.0, 0.0, nan, -125000.0, nan, 'george.mcclellan@enron.com', 52.0]\n",
      "['HERMANN ROBERT J', 262663.0, nan, nan, 1297461.0, 187500.0, 700000.0, 480632.0, nan, nan, 668132.0, 48357.0, nan, nan, 416441.0, nan, 0.0, nan, -280000.0, 150000.0, 'robert.hermann@enron.com', nan]\n",
      "['SCRIMSHAW MATTHEW', nan, nan, nan, nan, 759557.0, nan, nan, nan, nan, 759557.0, nan, nan, nan, nan, nan, 0.0, nan, nan, nan, 'matthew.scrimshaw@enron.com', nan]\n",
      "['GATHMANN WILLIAM D', nan, nan, nan, nan, 1753766.0, nan, 264013.0, nan, -72419.0, 1945360.0, nan, nan, nan, nan, nan, 0.0, nan, nan, nan, 'NaN', nan]\n",
      "['HAEDICKE MARK E', 374125.0, 4009.0, 2157527.0, 3859065.0, 608750.0, 1150000.0, 524169.0, 1847.0, -329825.0, 803094.0, 76169.0, nan, 1941.0, 52382.0, 61.0, 0.0, nan, -934484.0, 983346.0, 'mark.haedicke@enron.com', 180.0]\n",
      "['BOWEN JR RAYMOND M', 278601.0, 1858.0, nan, 2669589.0, nan, 1350000.0, 252055.0, 1593.0, nan, 252055.0, 65907.0, nan, 27.0, 1621.0, 15.0, 1.0, nan, -833.0, 974293.0, 'raymond.bowen@enron.com', 140.0]\n",
      "['GILLIS JOHN', nan, nan, nan, nan, 9803.0, nan, 75838.0, nan, nan, 85641.0, nan, nan, nan, nan, nan, 0.0, nan, nan, nan, 'NaN', nan]\n",
      "['FITZGERALD JAY L', 199157.0, 936.0, nan, 1414857.0, 664461.0, 350000.0, 956775.0, 723.0, nan, 1621236.0, 23870.0, nan, 16.0, 285414.0, 8.0, 0.0, nan, nan, 556416.0, 'jay.fitzgerald@enron.com', 1.0]\n",
      "['MORAN MICHAEL P', nan, 672.0, nan, nan, 59539.0, nan, 161602.0, 127.0, nan, 221141.0, nan, nan, 19.0, nan, 0.0, 0.0, nan, nan, nan, 'michael.moran@enron.com', 0.0]\n",
      "['REDMOND BRIAN L', 96840.0, 1671.0, nan, 111529.0, 7509039.0, nan, 381285.0, 1063.0, nan, 7890324.0, 14689.0, nan, 221.0, nan, 49.0, 0.0, nan, nan, nan, 'brian.redmond@enron.com', 204.0]\n",
      "['BAZELIDES PHILIP J', 80818.0, nan, 684694.0, 860136.0, 1599641.0, nan, nan, nan, nan, 1599641.0, nan, nan, nan, 874.0, nan, 0.0, nan, nan, 93750.0, 'NaN', nan]\n",
      "['BELDEN TIMOTHY N', 213999.0, 7991.0, 2144013.0, 5501630.0, 953136.0, 5249999.0, 157569.0, 5521.0, nan, 1110705.0, 17355.0, nan, 484.0, 210698.0, 108.0, 1.0, nan, -2334434.0, nan, 'tim.belden@enron.com', 228.0]\n",
      "['DURAN WILLIAM D', 210692.0, 904.0, nan, 2093263.0, 1451869.0, 750000.0, 189041.0, 599.0, nan, 1640910.0, 25785.0, nan, 12.0, 1568.0, 3.0, 0.0, nan, nan, 1105218.0, 'w.duran@enron.com', 106.0]\n",
      "['THORN TERENCE H', 222093.0, 266.0, 16586.0, 911453.0, 4452476.0, nan, 365320.0, 73.0, nan, 4817796.0, 46145.0, nan, 41.0, 426629.0, 0.0, 0.0, nan, nan, 200000.0, 'terence.thorn@enron.com', 0.0]\n",
      "['FASTOW ANDREW S', 440698.0, nan, nan, 2424083.0, nan, 1300000.0, 1794412.0, nan, nan, 1794412.0, 55921.0, nan, nan, 277464.0, nan, 1.0, nan, -1386055.0, 1736055.0, 'andrew.fastow@enron.com', nan]\n",
      "['FOY JOE', nan, 57.0, 181755.0, 181755.0, 343434.0, nan, nan, 2.0, nan, 343434.0, nan, nan, 13.0, nan, 0.0, 0.0, nan, nan, nan, 'tracy.foy@enron.com', 0.0]\n",
      "['CALGER CHRISTOPHER F', 240189.0, 2598.0, nan, 1639297.0, nan, 1250000.0, 126027.0, 2188.0, nan, 126027.0, 35818.0, nan, 144.0, 486.0, 25.0, 1.0, nan, -262500.0, 375304.0, 'christopher.calger@enron.com', 199.0]\n",
      "['RICE KENNETH D', 420636.0, 905.0, nan, 505050.0, 19794175.0, 1750000.0, 2748364.0, 864.0, nan, 22542539.0, 46950.0, nan, 18.0, 174839.0, 4.0, 1.0, nan, -3504386.0, 1617011.0, 'ken.rice@enron.com', 42.0]\n",
      "['KAMINSKI WINCENTY J', 275101.0, 4607.0, nan, 1086821.0, 850010.0, 400000.0, 126027.0, 583.0, nan, 976037.0, 83585.0, nan, 14368.0, 4669.0, 171.0, 0.0, nan, nan, 323466.0, 'vince.kaminski@enron.com', 41.0]\n",
      "['LOCKHART EUGENE E', nan, nan, nan, nan, nan, nan, nan, nan, nan, nan, nan, nan, nan, nan, nan, 0.0, nan, nan, nan, 'NaN', nan]\n",
      "['COX DAVID', 314288.0, 102.0, nan, 1101393.0, 117551.0, 800000.0, 378082.0, 71.0, nan, 495633.0, 27861.0, nan, 33.0, 494.0, 4.0, 0.0, nan, -41250.0, nan, 'chip.cox@enron.com', 0.0]\n",
      "['OVERDYKE JR JERE C', 94941.0, nan, nan, 249787.0, 5266578.0, nan, 2041016.0, nan, nan, 7307594.0, 18834.0, nan, nan, 176.0, nan, 0.0, nan, nan, 135836.0, 'jere.overdyke@enron.com', nan]\n",
      "['PEREIRA PAULO V. FERRAZ', nan, nan, nan, 27942.0, nan, nan, nan, nan, nan, nan, 27942.0, nan, nan, nan, nan, 0.0, 101250.0, -101250.0, nan, 'NaN', nan]\n",
      "['STABLER FRANK', 239502.0, nan, nan, 1112087.0, nan, 500000.0, 511734.0, nan, nan, 511734.0, 16514.0, nan, nan, 356071.0, nan, 0.0, nan, nan, nan, 'frank.stabler@enron.com', nan]\n",
      "['SKILLING JEFFREY K', 1111258.0, 3627.0, nan, 8682716.0, 19250000.0, 5600000.0, 6843672.0, 2042.0, nan, 26093672.0, 29336.0, nan, 108.0, 22122.0, 30.0, 1.0, nan, nan, 1920000.0, 'jeff.skilling@enron.com', 88.0]\n",
      "['BLAKE JR. NORMAN P', nan, nan, nan, 1279.0, nan, nan, nan, nan, nan, nan, 1279.0, nan, nan, nan, nan, 0.0, 113784.0, -113784.0, nan, 'NaN', nan]\n",
      "['SHERRICK JEFFREY B', nan, 613.0, nan, nan, 1426469.0, nan, 405999.0, 583.0, nan, 1832468.0, nan, nan, 25.0, nan, 18.0, 0.0, nan, nan, nan, 'jeffrey.sherrick@enron.com', 39.0]\n",
      "['PRENTICE JAMES', nan, nan, 564348.0, 564348.0, 886231.0, nan, 208809.0, nan, nan, 1095040.0, nan, nan, nan, nan, nan, 0.0, nan, nan, nan, 'james.prentice@enron.com', nan]\n",
      "['GRAY RODNEY', 6615.0, nan, 93585.0, 1146658.0, nan, nan, nan, nan, nan, nan, nan, nan, nan, 680833.0, nan, 0.0, nan, nan, 365625.0, 'NaN', nan]\n",
      "['PICKERING MARK R', 655037.0, 898.0, nan, 1386690.0, 28798.0, 300000.0, nan, 728.0, nan, 28798.0, 31653.0, 400000.0, 67.0, nan, 0.0, 0.0, nan, nan, nan, 'mark.pickering@enron.com', 7.0]\n",
      "['THE TRAVEL AGENCY IN THE PARK', nan, nan, nan, 362096.0, nan, nan, nan, nan, nan, nan, nan, nan, nan, 362096.0, nan, 0.0, nan, nan, nan, 'NaN', nan]\n",
      "['NOLES JAMES L', nan, nan, 774401.0, 774401.0, nan, nan, 463261.0, nan, -94556.0, 368705.0, nan, nan, nan, nan, nan, 0.0, nan, nan, nan, 'NaN', nan]\n",
      "['KEAN STEVEN J', 404338.0, 12754.0, nan, 1747522.0, 2022048.0, 1000000.0, 4131594.0, 3639.0, nan, 6153642.0, 41953.0, nan, 6759.0, 1231.0, 387.0, 0.0, nan, nan, 300000.0, 'steven.kean@enron.com', 140.0]\n",
      "['TOTAL', 26704229.0, nan, 32083396.0, 309886585.0, 311764000.0, 97343619.0, 130322299.0, nan, -7576788.0, 434509511.0, 5235198.0, 83925000.0, nan, 42667589.0, nan, 0.0, 1398517.0, -27992891.0, 48521928.0, 'NaN', nan]\n",
      "['FOWLER PEGGY', nan, 517.0, nan, nan, 1324578.0, nan, 560170.0, 10.0, nan, 1884748.0, nan, nan, 36.0, nan, 0.0, 0.0, nan, nan, nan, 'kulvinder.fowler@enron.com', 0.0]\n",
      "['WASAFF GEORGE', 259996.0, 400.0, 831299.0, 1034395.0, 1668260.0, 325000.0, 388167.0, 337.0, nan, 2056427.0, nan, nan, 30.0, 1425.0, 7.0, 0.0, nan, -583325.0, 200000.0, 'george.wasaff@enron.com', 22.0]\n",
      "['WHITE JR THOMAS E', 317543.0, nan, nan, 1934359.0, 1297049.0, 450000.0, 13847074.0, nan, nan, 15144123.0, 81353.0, nan, nan, 1085463.0, nan, 0.0, nan, nan, nan, 'thomas.white@enron.com', nan]\n",
      "['CHRISTODOULOU DIOMEDES', nan, nan, nan, nan, 5127155.0, nan, 950730.0, nan, nan, 6077885.0, nan, nan, nan, nan, nan, 0.0, nan, nan, nan, 'diomedes.christodoulou@enron.com', nan]\n",
      "['ALLEN PHILLIP K', 201955.0, 2902.0, 2869717.0, 4484442.0, 1729541.0, 4175000.0, 126027.0, 1407.0, -126027.0, 1729541.0, 13868.0, nan, 2195.0, 152.0, 65.0, 0.0, nan, -3081055.0, 304805.0, 'phillip.allen@enron.com', 47.0]\n",
      "['SHARP VICTORIA T', 248146.0, 3136.0, 187469.0, 1576511.0, 281073.0, 600000.0, 213063.0, 2477.0, nan, 494136.0, 116337.0, nan, 136.0, 2401.0, 6.0, 0.0, nan, nan, 422158.0, 'vicki.sharp@enron.com', 24.0]\n",
      "['JAEDICKE ROBERT', nan, nan, nan, 83750.0, 431750.0, nan, 44093.0, nan, -44093.0, 431750.0, nan, nan, nan, nan, nan, 0.0, 108750.0, -25000.0, nan, 'NaN', nan]\n",
      "['WINOKUR JR. HERBERT S', nan, nan, nan, 84992.0, nan, nan, nan, nan, nan, nan, 1413.0, nan, nan, nan, nan, 0.0, 108579.0, -25000.0, nan, 'NaN', nan]\n",
      "['BROWN MICHAEL', nan, 1486.0, nan, 49288.0, nan, nan, nan, 761.0, nan, nan, 49288.0, nan, 41.0, nan, 1.0, 0.0, nan, nan, nan, 'michael.brown@enron.com', 13.0]\n",
      "['BADUM JAMES P', nan, nan, 178980.0, 182466.0, 257817.0, nan, nan, nan, nan, 257817.0, 3486.0, nan, nan, nan, nan, 0.0, nan, nan, nan, 'NaN', nan]\n",
      "['HUGHES JAMES A', nan, 719.0, nan, nan, 754966.0, nan, 363428.0, 589.0, nan, 1118394.0, nan, nan, 34.0, nan, 5.0, 0.0, nan, nan, nan, 'james.hughes@enron.com', 35.0]\n",
      "['REYNOLDS LAWRENCE', 76399.0, nan, 51365.0, 394475.0, 4160672.0, 100000.0, 201483.0, nan, -140264.0, 4221891.0, 8409.0, nan, nan, 202052.0, nan, 0.0, nan, -200000.0, 156250.0, 'NaN', nan]\n",
      "['DIMICHELE RICHARD G', 262788.0, nan, nan, 2368151.0, 8191755.0, 1000000.0, 126027.0, nan, nan, 8317782.0, 35812.0, nan, nan, 374689.0, nan, 0.0, nan, nan, 694862.0, 'richard.dimichele@enron.com', nan]\n",
      "['BHATNAGAR SANJAY', nan, 523.0, nan, 15456290.0, 2604490.0, nan, -2604490.0, 463.0, 15456290.0, nan, nan, nan, 29.0, 137864.0, 1.0, 0.0, 137864.0, nan, nan, 'sanjay.bhatnagar@enron.com', 0.0]\n",
      "['CARTER REBECCA C', 261809.0, 312.0, nan, 477557.0, nan, 300000.0, 307301.0, 196.0, -307301.0, nan, nan, nan, 15.0, 540.0, 7.0, 0.0, nan, -159792.0, 75000.0, 'rebecca.carter@enron.com', 29.0]\n",
      "['BUCHANAN HAROLD G', 248017.0, 1088.0, nan, 1054637.0, 825464.0, 500000.0, 189041.0, 23.0, nan, 1014505.0, 600.0, nan, 125.0, 1215.0, 0.0, 0.0, nan, nan, 304805.0, 'john.buchanan@enron.com', 0.0]\n",
      "['YEAP SOON', nan, nan, nan, 55097.0, 192758.0, nan, nan, nan, nan, 192758.0, 55097.0, nan, nan, nan, nan, 0.0, nan, nan, nan, 'NaN', nan]\n",
      "['MURRAY JULIA H', 229284.0, 2192.0, nan, 812194.0, 400478.0, 400000.0, 196983.0, 395.0, nan, 597461.0, 57580.0, nan, 45.0, 330.0, 2.0, 0.0, nan, nan, 125000.0, 'julia.murray@enron.com', 11.0]\n",
      "['GARLAND C KEVIN', 231946.0, 209.0, nan, 1566469.0, 636246.0, 850000.0, 259907.0, 178.0, nan, 896153.0, 48405.0, nan, 44.0, 60814.0, 27.0, 0.0, nan, nan, 375304.0, 'kevin.garland@enron.com', 10.0]\n",
      "['DODSON KEITH', 221003.0, 176.0, nan, 319941.0, nan, 70000.0, nan, 114.0, nan, nan, 28164.0, nan, 14.0, 774.0, 3.0, 0.0, nan, nan, nan, 'keith.dodson@enron.com', 10.0]\n",
      "['YEAGER F SCOTT', 158403.0, nan, nan, 360300.0, 8308552.0, nan, 3576206.0, nan, nan, 11884758.0, 53947.0, nan, nan, 147950.0, nan, 1.0, nan, nan, nan, 'scott.yeager@enron.com', nan]\n",
      "['HIRKO JOSEPH', nan, nan, 10259.0, 91093.0, 30766064.0, nan, nan, nan, nan, 30766064.0, 77978.0, nan, nan, 2856.0, nan, 1.0, nan, nan, nan, 'joe.hirko@enron.com', nan]\n",
      "['DIETRICH JANET R', 250100.0, 2572.0, nan, 1410464.0, 1550019.0, 600000.0, 315068.0, 1902.0, nan, 1865087.0, 3475.0, nan, 63.0, 473.0, 14.0, 0.0, nan, nan, 556416.0, 'janet.dietrich@enron.com', 305.0]\n",
      "['DERRICK JR. JAMES V', 492375.0, 2181.0, nan, 550981.0, 8831913.0, 800000.0, 1787380.0, 1401.0, -1787380.0, 8831913.0, 51124.0, nan, 909.0, 7482.0, 20.0, 0.0, nan, -1284000.0, 484000.0, 'james.derrick@enron.com', 64.0]\n",
      "['FREVERT MARK A', 1060932.0, 3275.0, 6426990.0, 17252530.0, 10433518.0, 2000000.0, 4188667.0, 2979.0, nan, 14622185.0, 86987.0, 2000000.0, 21.0, 7427621.0, 6.0, 0.0, nan, -3367011.0, 1617011.0, 'mark.frevert@enron.com', 242.0]\n",
      "['PAI LOU L', 261879.0, nan, nan, 3123383.0, 15364167.0, 1000000.0, 8453763.0, nan, nan, 23817930.0, 32047.0, nan, nan, 1829457.0, nan, 0.0, nan, nan, nan, 'lou.pai@enron.com', nan]\n",
      "['BAY FRANKLIN R', 239671.0, nan, 260455.0, 827696.0, nan, 400000.0, 145796.0, nan, -82782.0, 63014.0, 129142.0, nan, nan, 69.0, nan, 0.0, nan, -201641.0, nan, 'frank.bay@enron.com', nan]\n",
      "['HAYSLETT RODERICK J', nan, 2649.0, nan, nan, nan, nan, 346663.0, 571.0, nan, 346663.0, nan, nan, 1061.0, nan, 38.0, 0.0, nan, nan, nan, 'rod.hayslett@enron.com', 35.0]\n",
      "['FUGH JOHN L', nan, nan, 50591.0, 50591.0, 176378.0, nan, nan, nan, nan, 176378.0, nan, nan, nan, nan, nan, 0.0, nan, nan, nan, 'NaN', nan]\n",
      "['FALLON JAMES B', 304588.0, 1755.0, nan, 3676340.0, 940257.0, 2500000.0, 1392142.0, 1604.0, nan, 2332399.0, 95924.0, nan, 75.0, 401481.0, 37.0, 0.0, nan, nan, 374347.0, 'jim.fallon@enron.com', 42.0]\n",
      "['KOENIG MARK E', 309946.0, 2374.0, nan, 1587421.0, 671737.0, 700000.0, 1248318.0, 2271.0, nan, 1920055.0, 127017.0, nan, 61.0, 150458.0, 15.0, 1.0, nan, nan, 300000.0, 'mark.koenig@enron.com', 53.0]\n",
      "['SAVAGE FRANK', nan, nan, nan, 3750.0, nan, nan, nan, nan, nan, nan, nan, nan, nan, nan, nan, 0.0, 125034.0, -121284.0, nan, 'NaN', nan]\n",
      "['IZZO LAWRENCE L', 85274.0, 496.0, nan, 1979596.0, 2165172.0, nan, 3654808.0, 437.0, nan, 5819980.0, 28093.0, nan, 19.0, 1553729.0, 5.0, 0.0, nan, nan, 312500.0, 'larry.izzo@enron.com', 28.0]\n",
      "['TILNEY ELIZABETH A', 247338.0, 460.0, nan, 399393.0, 591250.0, 300000.0, 576792.0, 379.0, nan, 1168042.0, nan, nan, 19.0, 152055.0, 11.0, 0.0, nan, -575000.0, 275000.0, 'elizabeth.tilney@enron.com', 10.0]\n",
      "['MARTIN AMANDA K', 349487.0, 1522.0, 85430.0, 8407016.0, 2070306.0, nan, nan, 477.0, nan, 2070306.0, 8211.0, nan, 230.0, 2818454.0, 0.0, 0.0, nan, nan, 5145434.0, 'a..martin@enron.com', 8.0]\n",
      "['BUY RICHARD B', 330546.0, 3523.0, 649584.0, 2355702.0, 2542813.0, 900000.0, 901657.0, 2333.0, nan, 3444470.0, nan, nan, 1053.0, 400572.0, 71.0, 0.0, nan, -694862.0, 769862.0, 'rick.buy@enron.com', 156.0]\n",
      "['GRAMM WENDY L', nan, nan, nan, 119292.0, nan, nan, nan, nan, nan, nan, nan, nan, nan, nan, nan, 0.0, 119292.0, nan, nan, 'NaN', nan]\n",
      "['CAUSEY RICHARD A', 415189.0, 1892.0, nan, 1868758.0, nan, 1000000.0, 2502063.0, 1585.0, nan, 2502063.0, 30674.0, nan, 49.0, 307895.0, 12.0, 1.0, nan, -235000.0, 350000.0, 'richard.causey@enron.com', 58.0]\n",
      "['TAYLOR MITCHELL S', 265214.0, 533.0, 227449.0, 1092663.0, 3181250.0, 600000.0, 563798.0, 300.0, nan, 3745048.0, nan, nan, 29.0, nan, 0.0, 0.0, nan, nan, nan, 'mitchell.taylor@enron.com', 0.0]\n",
      "['DONAHUE JR JEFFREY M', 278601.0, 865.0, nan, 875760.0, 765920.0, 800000.0, 315068.0, 772.0, nan, 1080988.0, 96268.0, nan, 22.0, 891.0, 11.0, 0.0, nan, -300000.0, nan, 'jeff.donahue@enron.com', 188.0]\n",
      "['GLISAN JR BEN F', 274975.0, 873.0, nan, 1272284.0, 384728.0, 600000.0, 393818.0, 874.0, nan, 778546.0, 125978.0, nan, 16.0, 200308.0, 6.0, 1.0, nan, nan, 71023.0, 'ben.glisan@enron.com', 52.0]\n"
     ]
    }
   ],
   "source": [
    "dataset = dict_parser.convert_into_df(data_dict)"
   ]
  },
  {
   "cell_type": "code",
   "execution_count": 4,
   "metadata": {
    "collapsed": false
   },
   "outputs": [],
   "source": [
    "# Define poi as boolean\n",
    "dataset['poi'] = dataset['poi'].astype('bool')"
   ]
  },
  {
   "cell_type": "markdown",
   "metadata": {},
   "source": [
    "## Visualisation"
   ]
  },
  {
   "cell_type": "markdown",
   "metadata": {},
   "source": [
    "Here, I would like to plot some variables against each other to eventually spot some possible outliers. I progressively add outliers to the list <i>outlier</i> here defined. I have also added a function called <b>plot</b> which print charts usefult for visualising relationships."
   ]
  },
  {
   "cell_type": "code",
   "execution_count": 5,
   "metadata": {
    "collapsed": true
   },
   "outputs": [],
   "source": [
    "# Initialise outliers list\n",
    "outliers = []"
   ]
  },
  {
   "cell_type": "code",
   "execution_count": 6,
   "metadata": {
    "collapsed": true
   },
   "outputs": [],
   "source": [
    "def plot(df, x, y, x_type = 'min', y_type = 'min'):\n",
    "    \n",
    "    \"\"\"\n",
    "    \n",
    "        This function generates a chart that is used to identify possible\n",
    "        poi-explanatory relationships betwen variables x and y.\n",
    "    \n",
    "    \"\"\"\n",
    "    \n",
    "    # Define coordinates for horizontala and vertical lines\n",
    "    horiz_coord = getattr(np, y_type)(df[df['poi'] == 1][y])\n",
    "    vertic_coord = getattr(np, x_type)(df[df['poi'] == 1][x])\n",
    "    \n",
    "    gg = ggplot(df, aes(x = x, y = y, color = 'poi')) +\\\n",
    "        geom_point(size = 60, alpha = 0.8) +\\\n",
    "        scale_color_manual(values = ['#8cb1f0', '#f40000']) +\\\n",
    "        theme_bw() +\\\n",
    "        geom_hline(y = horiz_coord, color = 'black', size = 0.5, linetype = 'dashed') +\\\n",
    "        geom_vline(x = vertic_coord, color = 'black', size = 0.5, linetype = 'dashed')\n",
    "        \n",
    "    return gg"
   ]
  },
  {
   "cell_type": "markdown",
   "metadata": {},
   "source": [
    "### Financial Variables"
   ]
  },
  {
   "cell_type": "markdown",
   "metadata": {},
   "source": [
    "Let me start with financial variables. An outlier has actually been already identified in class, but I will show it again."
   ]
  },
  {
   "cell_type": "code",
   "execution_count": 7,
   "metadata": {
    "collapsed": false
   },
   "outputs": [
    {
     "data": {
      "image/png": "[encoded data removed]",
      "text/plain": [
       "<matplotlib.figure.Figure at 0x115355150>"
      ]
     },
     "metadata": {},
     "output_type": "display_data"
    },
    {
     "data": {
      "text/plain": [
       "<ggplot: (289944517)>"
      ]
     },
     "execution_count": 7,
     "metadata": {},
     "output_type": "execute_result"
    }
   ],
   "source": [
    "plot(dataset, 'salary', 'bonus', x_type = 'max')"
   ]
  },
  {
   "cell_type": "markdown",
   "metadata": {},
   "source": [
    "There is clearly an outlier here, i.e. an observation with a much higher salary and bonus. Let me check who he is."
   ]
  },
  {
   "cell_type": "code",
   "execution_count": 8,
   "metadata": {
    "collapsed": false
   },
   "outputs": [
    {
     "data": {
      "text/html": [
       "<div>\n",
       "<table border=\"1\" class=\"dataframe\">\n",
       "  <thead>\n",
       "    <tr style=\"text-align: right;\">\n",
       "      <th></th>\n",
       "      <th>name</th>\n",
       "      <th>salary</th>\n",
       "    </tr>\n",
       "  </thead>\n",
       "  <tbody>\n",
       "    <tr>\n",
       "      <th>104</th>\n",
       "      <td>TOTAL</td>\n",
       "      <td>26704229.0</td>\n",
       "    </tr>\n",
       "  </tbody>\n",
       "</table>\n",
       "</div>"
      ],
      "text/plain": [
       "      name      salary\n",
       "104  TOTAL  26704229.0"
      ]
     },
     "execution_count": 8,
     "metadata": {},
     "output_type": "execute_result"
    }
   ],
   "source": [
    "dataset[dataset['salary'] > 1e7][['name', 'salary']]"
   ]
  },
  {
   "cell_type": "markdown",
   "metadata": {},
   "source": [
    "The TOTAL' observation is actually the sum of all the others values. Let me add it to the outliers list and remove the observation from the dataset."
   ]
  },
  {
   "cell_type": "code",
   "execution_count": 9,
   "metadata": {
    "collapsed": true
   },
   "outputs": [],
   "source": [
    "outliers.append('TOTAL')\n",
    "dataset = dataset[dataset['name'] != 'TOTAL']"
   ]
  },
  {
   "cell_type": "code",
   "execution_count": 10,
   "metadata": {
    "collapsed": false
   },
   "outputs": [
    {
     "data": {
      "image/png": "[encoded data removed]",
      "text/plain": [
       "<matplotlib.figure.Figure at 0x1148ed8d0>"
      ]
     },
     "metadata": {},
     "output_type": "display_data"
    },
    {
     "data": {
      "text/plain": [
       "<ggplot: (289941257)>"
      ]
     },
     "execution_count": 10,
     "metadata": {},
     "output_type": "execute_result"
    }
   ],
   "source": [
    "plot(dataset, 'salary', 'bonus', x_type = 'max', y_type = 'max')"
   ]
  },
  {
   "cell_type": "markdown",
   "metadata": {},
   "source": [
    "Much better now. There are obviously observations with a much higher salary/bonus, but I expected that."
   ]
  },
  {
   "cell_type": "markdown",
   "metadata": {},
   "source": [
    "### Messages variables"
   ]
  },
  {
   "cell_type": "markdown",
   "metadata": {},
   "source": [
    "Let me explore some outliers for messages variables."
   ]
  },
  {
   "cell_type": "code",
   "execution_count": 11,
   "metadata": {
    "collapsed": false
   },
   "outputs": [
    {
     "data": {
      "image/png": "[encoded data removed]",
      "text/plain": [
       "<matplotlib.figure.Figure at 0x115616990>"
      ]
     },
     "metadata": {},
     "output_type": "display_data"
    },
    {
     "data": {
      "text/plain": [
       "<ggplot: (272119001)>"
      ]
     },
     "execution_count": 11,
     "metadata": {},
     "output_type": "execute_result"
    }
   ],
   "source": [
    "plot(dataset, 'from_messages', 'to_messages', x_type = 'max', y_type = 'max')"
   ]
  },
  {
   "cell_type": "markdown",
   "metadata": {},
   "source": [
    "I notice three obseravtions here which are quite unusual. They are people who have sent and/or received a very high number of emails. They are not POIs. Let me figure out who they are."
   ]
  },
  {
   "cell_type": "code",
   "execution_count": 12,
   "metadata": {
    "collapsed": false
   },
   "outputs": [
    {
     "data": {
      "text/plain": [
       "51       SHAPIRO RICHARD S\n",
       "89     KAMINSKI WINCENTY J\n",
       "103          KEAN STEVEN J\n",
       "Name: name, dtype: object"
      ]
     },
     "execution_count": 12,
     "metadata": {},
     "output_type": "execute_result"
    }
   ],
   "source": [
    "indexing = (dataset['from_messages'] > 14000) | (dataset['to_messages'] > 12000)\n",
    "dataset[indexing]['name']"
   ]
  },
  {
   "cell_type": "markdown",
   "metadata": {},
   "source": [
    "I will remove these observations from the final dataset. Let me add them to the outliers list."
   ]
  },
  {
   "cell_type": "code",
   "execution_count": 13,
   "metadata": {
    "collapsed": false
   },
   "outputs": [],
   "source": [
    "outliers += dataset[indexing]['name'].values.tolist()\n",
    "dataset = dataset[np.invert(indexing)]"
   ]
  },
  {
   "cell_type": "code",
   "execution_count": 14,
   "metadata": {
    "collapsed": false
   },
   "outputs": [
    {
     "data": {
      "image/png": "[encoded data removed]",
      "text/plain": [
       "<matplotlib.figure.Figure at 0x115400f50>"
      ]
     },
     "metadata": {},
     "output_type": "display_data"
    },
    {
     "data": {
      "text/plain": [
       "<ggplot: (290854449)>"
      ]
     },
     "execution_count": 14,
     "metadata": {},
     "output_type": "execute_result"
    }
   ],
   "source": [
    "plot(dataset, 'from_messages', 'to_messages', x_type = 'max', y_type = 'max')"
   ]
  },
  {
   "cell_type": "markdown",
   "metadata": {},
   "source": [
    "### Missing values"
   ]
  },
  {
   "cell_type": "markdown",
   "metadata": {},
   "source": [
    "Since the beginning of this project, I have been thinking about how to treat 'NaN's, i.e. missing values. The code provided by Udacity transforms NaN values into zero, which may not be the best answer, but it is no different than assigning any other value.<br>\n",
    "My approach then is that of working <i>ex-ante</i>, i.e. by looking at observations with a high percentage of NaN values (i.e. observations which are not really adding too much value to the dataset) and potentially remove them."
   ]
  },
  {
   "cell_type": "code",
   "execution_count": 15,
   "metadata": {
    "collapsed": false
   },
   "outputs": [
    {
     "data": {
      "text/html": [
       "<div>\n",
       "<table border=\"1\" class=\"dataframe\">\n",
       "  <thead>\n",
       "    <tr style=\"text-align: right;\">\n",
       "      <th></th>\n",
       "      <th>name</th>\n",
       "      <th>nan_percentage</th>\n",
       "      <th>poi</th>\n",
       "    </tr>\n",
       "  </thead>\n",
       "  <tbody>\n",
       "    <tr>\n",
       "      <th>90</th>\n",
       "      <td>LOCKHART EUGENE E</td>\n",
       "      <td>1.000000</td>\n",
       "      <td>False</td>\n",
       "    </tr>\n",
       "    <tr>\n",
       "      <th>73</th>\n",
       "      <td>SCRIMSHAW MATTHEW</td>\n",
       "      <td>0.894737</td>\n",
       "      <td>False</td>\n",
       "    </tr>\n",
       "    <tr>\n",
       "      <th>101</th>\n",
       "      <td>THE TRAVEL AGENCY IN THE PARK</td>\n",
       "      <td>0.894737</td>\n",
       "      <td>False</td>\n",
       "    </tr>\n",
       "    <tr>\n",
       "      <th>26</th>\n",
       "      <td>WODRASKA JOHN</td>\n",
       "      <td>0.894737</td>\n",
       "      <td>False</td>\n",
       "    </tr>\n",
       "    <tr>\n",
       "      <th>62</th>\n",
       "      <td>WROBEL BRUCE</td>\n",
       "      <td>0.894737</td>\n",
       "      <td>False</td>\n",
       "    </tr>\n",
       "    <tr>\n",
       "      <th>31</th>\n",
       "      <td>WHALEY DAVID A</td>\n",
       "      <td>0.894737</td>\n",
       "      <td>False</td>\n",
       "    </tr>\n",
       "    <tr>\n",
       "      <th>141</th>\n",
       "      <td>GRAMM WENDY L</td>\n",
       "      <td>0.894737</td>\n",
       "      <td>False</td>\n",
       "    </tr>\n",
       "    <tr>\n",
       "      <th>37</th>\n",
       "      <td>CLINE KENNETH W</td>\n",
       "      <td>0.842105</td>\n",
       "      <td>False</td>\n",
       "    </tr>\n",
       "    <tr>\n",
       "      <th>136</th>\n",
       "      <td>SAVAGE FRANK</td>\n",
       "      <td>0.842105</td>\n",
       "      <td>False</td>\n",
       "    </tr>\n",
       "    <tr>\n",
       "      <th>77</th>\n",
       "      <td>GILLIS JOHN</td>\n",
       "      <td>0.842105</td>\n",
       "      <td>False</td>\n",
       "    </tr>\n",
       "  </tbody>\n",
       "</table>\n",
       "</div>"
      ],
      "text/plain": [
       "                              name  nan_percentage    poi\n",
       "90               LOCKHART EUGENE E        1.000000  False\n",
       "73               SCRIMSHAW MATTHEW        0.894737  False\n",
       "101  THE TRAVEL AGENCY IN THE PARK        0.894737  False\n",
       "26                   WODRASKA JOHN        0.894737  False\n",
       "62                    WROBEL BRUCE        0.894737  False\n",
       "31                  WHALEY DAVID A        0.894737  False\n",
       "141                  GRAMM WENDY L        0.894737  False\n",
       "37                 CLINE KENNETH W        0.842105  False\n",
       "136                   SAVAGE FRANK        0.842105  False\n",
       "77                     GILLIS JOHN        0.842105  False"
      ]
     },
     "execution_count": 15,
     "metadata": {},
     "output_type": "execute_result"
    }
   ],
   "source": [
    "fields = ['name', 'nan_percentage', 'poi']\n",
    "values = []\n",
    "for name, obs_dict in data_dict.items():\n",
    "    obs_list = [name]\n",
    "    nan_counter = 0\n",
    "    length = len(obs_dict) - 2\n",
    "    for key, value in obs_dict.items():\n",
    "        if key != 'email_address':\n",
    "            if key == 'poi':\n",
    "                poi = value\n",
    "            elif value == 'NaN':\n",
    "                nan_counter += 1\n",
    "    obs_list.append(float(nan_counter)/ length) \n",
    "    obs_list.append(poi)\n",
    "    values.append(obs_list)\n",
    "\n",
    "check_df = pd.DataFrame(values, columns=fields)\n",
    "check_df.sort_values(by = 'nan_percentage', ascending=False).head(10)"
   ]
  },
  {
   "cell_type": "markdown",
   "metadata": {},
   "source": [
    "It is obvious that there is a lot of missing data!\n",
    "<br>There is, however, a person whose information are completely missing, except for his name, his e-mail address and his poi status (he is not a poi). This person is LOCKHART EUGENE E, whom I will remove as an outlier.<br>\n",
    "There is also an observation called 'THE TRAVEL AGENCY IN THE PARK', which also has a lot of missing data. In general, my approach would have been that of keeping all the observations (unless the percentage of NaN is 100%, like in the case of Lockhart Eugene E). In this case, however, the travel agency represents a business, not a person. I will remove it too."
   ]
  },
  {
   "cell_type": "code",
   "execution_count": 16,
   "metadata": {
    "collapsed": false
   },
   "outputs": [],
   "source": [
    "outliers.append('LOCKHART EUGENE E')\n",
    "outliers.append('THE TRAVEL AGENCY IN THE PARK')"
   ]
  },
  {
   "cell_type": "markdown",
   "metadata": {},
   "source": [
    "#### Missing values by type of variables"
   ]
  },
  {
   "cell_type": "markdown",
   "metadata": {},
   "source": [
    "The analysis above, however, was counting the percentage of missing values for all features. I would like to perform the same analysis by splitting in financial variables and message variables. Let me just change the code above a little bit."
   ]
  },
  {
   "cell_type": "code",
   "execution_count": 17,
   "metadata": {
    "collapsed": true
   },
   "outputs": [],
   "source": [
    "fin_variables = ['salary', 'deferral_payments', 'total_payments',\n",
    "                 'loan_advances', 'bonus', 'restricted_stock_deferred',\n",
    "                 'deferred_income', 'total_stock_value', 'expenses',\n",
    "                 'exercised_stock_options', 'other', 'long_term_incentive',\n",
    "                 'restricted_stock', 'director_fees']\n",
    "\n",
    "# I have excluded e_mail address from message variables since \n",
    "# I wouldn't use this variable anyway\n",
    "message_variables = ['to_messages', 'from_poi_to_this_person',\n",
    "                     'from_messages', 'from_this_person_to_poi', 'shared_receipt_with_poi']"
   ]
  },
  {
   "cell_type": "code",
   "execution_count": 18,
   "metadata": {
    "collapsed": true
   },
   "outputs": [],
   "source": [
    "# Define length of financial variables array\n",
    "len_fin = len(fin_variables)\n",
    "\n",
    "# Define length of message variables\n",
    "len_message = len(message_variables)\n",
    "\n",
    "# Define general list which will store observation lists\n",
    "general_list = []\n",
    "\n",
    "for name, obs_dict in data_dict.items():\n",
    "    obs_list = [name]\n",
    "    nan_fin = 0\n",
    "    nan_message = 0\n",
    "    for key, value in obs_dict.items():\n",
    "        if key in fin_variables:\n",
    "            if value == 'NaN':\n",
    "                nan_fin += 1\n",
    "        if key in message_variables:\n",
    "            if value == 'NaN':\n",
    "                nan_message += 1\n",
    "        if key == 'poi':\n",
    "            poi = value\n",
    "        \n",
    "    nan_fin_ratio = float(nan_fin) / len_fin\n",
    "    nan_message_ratio = float(nan_message) / len_message\n",
    "    nan_total_ratio = float((nan_fin + nan_message)) / float((len_fin + len_message))\n",
    "    \n",
    "    obs_list.append(nan_total_ratio)\n",
    "    obs_list.append(nan_fin_ratio)\n",
    "    obs_list.append(nan_message_ratio)\n",
    "    obs_list.append(poi)\n",
    "    general_list.append(obs_list)\n",
    "\n"
   ]
  },
  {
   "cell_type": "code",
   "execution_count": 19,
   "metadata": {
    "collapsed": false
   },
   "outputs": [],
   "source": [
    "# Fields\n",
    "fields = ['name', 'nan_percentage_total',\n",
    "          'nan_percentage_fin',\n",
    "          'nan_percentage_message','poi']\n",
    "check_df = pd.DataFrame(general_list, columns=fields)"
   ]
  },
  {
   "cell_type": "code",
   "execution_count": 20,
   "metadata": {
    "collapsed": true
   },
   "outputs": [],
   "source": [
    "def sorter(df, column, ascending=False):\n",
    "    \n",
    "    \"\"\"\n",
    "        \n",
    "        This function is used to sort the dataframe for checking\n",
    "        the percentage of NaN by different columns\n",
    "    \n",
    "    \"\"\"\n",
    "    \n",
    "    return df.sort_values(by = column, ascending = ascending)"
   ]
  },
  {
   "cell_type": "markdown",
   "metadata": {},
   "source": [
    "#### Percentage of NaN (total)"
   ]
  },
  {
   "cell_type": "code",
   "execution_count": 21,
   "metadata": {
    "collapsed": false,
    "scrolled": true
   },
   "outputs": [
    {
     "data": {
      "text/html": [
       "<div>\n",
       "<table border=\"1\" class=\"dataframe\">\n",
       "  <thead>\n",
       "    <tr style=\"text-align: right;\">\n",
       "      <th></th>\n",
       "      <th>name</th>\n",
       "      <th>nan_percentage_total</th>\n",
       "      <th>nan_percentage_fin</th>\n",
       "      <th>nan_percentage_message</th>\n",
       "      <th>poi</th>\n",
       "    </tr>\n",
       "  </thead>\n",
       "  <tbody>\n",
       "    <tr>\n",
       "      <th>90</th>\n",
       "      <td>LOCKHART EUGENE E</td>\n",
       "      <td>1.000000</td>\n",
       "      <td>1.000000</td>\n",
       "      <td>1.0</td>\n",
       "      <td>False</td>\n",
       "    </tr>\n",
       "    <tr>\n",
       "      <th>73</th>\n",
       "      <td>SCRIMSHAW MATTHEW</td>\n",
       "      <td>0.894737</td>\n",
       "      <td>0.857143</td>\n",
       "      <td>1.0</td>\n",
       "      <td>False</td>\n",
       "    </tr>\n",
       "    <tr>\n",
       "      <th>101</th>\n",
       "      <td>THE TRAVEL AGENCY IN THE PARK</td>\n",
       "      <td>0.894737</td>\n",
       "      <td>0.857143</td>\n",
       "      <td>1.0</td>\n",
       "      <td>False</td>\n",
       "    </tr>\n",
       "    <tr>\n",
       "      <th>26</th>\n",
       "      <td>WODRASKA JOHN</td>\n",
       "      <td>0.894737</td>\n",
       "      <td>0.857143</td>\n",
       "      <td>1.0</td>\n",
       "      <td>False</td>\n",
       "    </tr>\n",
       "    <tr>\n",
       "      <th>62</th>\n",
       "      <td>WROBEL BRUCE</td>\n",
       "      <td>0.894737</td>\n",
       "      <td>0.857143</td>\n",
       "      <td>1.0</td>\n",
       "      <td>False</td>\n",
       "    </tr>\n",
       "    <tr>\n",
       "      <th>31</th>\n",
       "      <td>WHALEY DAVID A</td>\n",
       "      <td>0.894737</td>\n",
       "      <td>0.857143</td>\n",
       "      <td>1.0</td>\n",
       "      <td>False</td>\n",
       "    </tr>\n",
       "    <tr>\n",
       "      <th>141</th>\n",
       "      <td>GRAMM WENDY L</td>\n",
       "      <td>0.894737</td>\n",
       "      <td>0.857143</td>\n",
       "      <td>1.0</td>\n",
       "      <td>False</td>\n",
       "    </tr>\n",
       "    <tr>\n",
       "      <th>37</th>\n",
       "      <td>CLINE KENNETH W</td>\n",
       "      <td>0.842105</td>\n",
       "      <td>0.785714</td>\n",
       "      <td>1.0</td>\n",
       "      <td>False</td>\n",
       "    </tr>\n",
       "    <tr>\n",
       "      <th>136</th>\n",
       "      <td>SAVAGE FRANK</td>\n",
       "      <td>0.842105</td>\n",
       "      <td>0.785714</td>\n",
       "      <td>1.0</td>\n",
       "      <td>False</td>\n",
       "    </tr>\n",
       "    <tr>\n",
       "      <th>77</th>\n",
       "      <td>GILLIS JOHN</td>\n",
       "      <td>0.842105</td>\n",
       "      <td>0.785714</td>\n",
       "      <td>1.0</td>\n",
       "      <td>False</td>\n",
       "    </tr>\n",
       "    <tr>\n",
       "      <th>46</th>\n",
       "      <td>WAKEHAM JOHN</td>\n",
       "      <td>0.842105</td>\n",
       "      <td>0.785714</td>\n",
       "      <td>1.0</td>\n",
       "      <td>False</td>\n",
       "    </tr>\n",
       "    <tr>\n",
       "      <th>108</th>\n",
       "      <td>CHRISTODOULOU DIOMEDES</td>\n",
       "      <td>0.842105</td>\n",
       "      <td>0.785714</td>\n",
       "      <td>1.0</td>\n",
       "      <td>False</td>\n",
       "    </tr>\n",
       "    <tr>\n",
       "      <th>96</th>\n",
       "      <td>BLAKE JR. NORMAN P</td>\n",
       "      <td>0.789474</td>\n",
       "      <td>0.714286</td>\n",
       "      <td>1.0</td>\n",
       "      <td>False</td>\n",
       "    </tr>\n",
       "    <tr>\n",
       "      <th>35</th>\n",
       "      <td>MENDELSOHN JOHN</td>\n",
       "      <td>0.789474</td>\n",
       "      <td>0.714286</td>\n",
       "      <td>1.0</td>\n",
       "      <td>False</td>\n",
       "    </tr>\n",
       "    <tr>\n",
       "      <th>112</th>\n",
       "      <td>WINOKUR JR. HERBERT S</td>\n",
       "      <td>0.789474</td>\n",
       "      <td>0.714286</td>\n",
       "      <td>1.0</td>\n",
       "      <td>False</td>\n",
       "    </tr>\n",
       "    <tr>\n",
       "      <th>28</th>\n",
       "      <td>URQUHART JOHN A</td>\n",
       "      <td>0.789474</td>\n",
       "      <td>0.714286</td>\n",
       "      <td>1.0</td>\n",
       "      <td>False</td>\n",
       "    </tr>\n",
       "    <tr>\n",
       "      <th>64</th>\n",
       "      <td>MEYER JEROME J</td>\n",
       "      <td>0.789474</td>\n",
       "      <td>0.714286</td>\n",
       "      <td>1.0</td>\n",
       "      <td>False</td>\n",
       "    </tr>\n",
       "    <tr>\n",
       "      <th>23</th>\n",
       "      <td>CHAN RONNIE</td>\n",
       "      <td>0.789474</td>\n",
       "      <td>0.714286</td>\n",
       "      <td>1.0</td>\n",
       "      <td>False</td>\n",
       "    </tr>\n",
       "    <tr>\n",
       "      <th>121</th>\n",
       "      <td>YEAP SOON</td>\n",
       "      <td>0.789474</td>\n",
       "      <td>0.714286</td>\n",
       "      <td>1.0</td>\n",
       "      <td>False</td>\n",
       "    </tr>\n",
       "    <tr>\n",
       "      <th>74</th>\n",
       "      <td>GATHMANN WILLIAM D</td>\n",
       "      <td>0.789474</td>\n",
       "      <td>0.714286</td>\n",
       "      <td>1.0</td>\n",
       "      <td>False</td>\n",
       "    </tr>\n",
       "  </tbody>\n",
       "</table>\n",
       "</div>"
      ],
      "text/plain": [
       "                              name  nan_percentage_total  nan_percentage_fin  \\\n",
       "90               LOCKHART EUGENE E              1.000000            1.000000   \n",
       "73               SCRIMSHAW MATTHEW              0.894737            0.857143   \n",
       "101  THE TRAVEL AGENCY IN THE PARK              0.894737            0.857143   \n",
       "26                   WODRASKA JOHN              0.894737            0.857143   \n",
       "62                    WROBEL BRUCE              0.894737            0.857143   \n",
       "31                  WHALEY DAVID A              0.894737            0.857143   \n",
       "141                  GRAMM WENDY L              0.894737            0.857143   \n",
       "37                 CLINE KENNETH W              0.842105            0.785714   \n",
       "136                   SAVAGE FRANK              0.842105            0.785714   \n",
       "77                     GILLIS JOHN              0.842105            0.785714   \n",
       "46                    WAKEHAM JOHN              0.842105            0.785714   \n",
       "108         CHRISTODOULOU DIOMEDES              0.842105            0.785714   \n",
       "96              BLAKE JR. NORMAN P              0.789474            0.714286   \n",
       "35                 MENDELSOHN JOHN              0.789474            0.714286   \n",
       "112          WINOKUR JR. HERBERT S              0.789474            0.714286   \n",
       "28                 URQUHART JOHN A              0.789474            0.714286   \n",
       "64                  MEYER JEROME J              0.789474            0.714286   \n",
       "23                     CHAN RONNIE              0.789474            0.714286   \n",
       "121                      YEAP SOON              0.789474            0.714286   \n",
       "74              GATHMANN WILLIAM D              0.789474            0.714286   \n",
       "\n",
       "     nan_percentage_message    poi  \n",
       "90                      1.0  False  \n",
       "73                      1.0  False  \n",
       "101                     1.0  False  \n",
       "26                      1.0  False  \n",
       "62                      1.0  False  \n",
       "31                      1.0  False  \n",
       "141                     1.0  False  \n",
       "37                      1.0  False  \n",
       "136                     1.0  False  \n",
       "77                      1.0  False  \n",
       "46                      1.0  False  \n",
       "108                     1.0  False  \n",
       "96                      1.0  False  \n",
       "35                      1.0  False  \n",
       "112                     1.0  False  \n",
       "28                      1.0  False  \n",
       "64                      1.0  False  \n",
       "23                      1.0  False  \n",
       "121                     1.0  False  \n",
       "74                      1.0  False  "
      ]
     },
     "execution_count": 21,
     "metadata": {},
     "output_type": "execute_result"
    }
   ],
   "source": [
    "sorter(check_df, 'nan_percentage_total').head(20)"
   ]
  },
  {
   "cell_type": "markdown",
   "metadata": {},
   "source": [
    "#### Percentage of NaN (financial)"
   ]
  },
  {
   "cell_type": "code",
   "execution_count": 22,
   "metadata": {
    "collapsed": false
   },
   "outputs": [
    {
     "data": {
      "text/html": [
       "<div>\n",
       "<table border=\"1\" class=\"dataframe\">\n",
       "  <thead>\n",
       "    <tr style=\"text-align: right;\">\n",
       "      <th></th>\n",
       "      <th>name</th>\n",
       "      <th>nan_percentage_total</th>\n",
       "      <th>nan_percentage_fin</th>\n",
       "      <th>nan_percentage_message</th>\n",
       "      <th>poi</th>\n",
       "    </tr>\n",
       "  </thead>\n",
       "  <tbody>\n",
       "    <tr>\n",
       "      <th>90</th>\n",
       "      <td>LOCKHART EUGENE E</td>\n",
       "      <td>1.000000</td>\n",
       "      <td>1.000000</td>\n",
       "      <td>1.0</td>\n",
       "      <td>False</td>\n",
       "    </tr>\n",
       "    <tr>\n",
       "      <th>73</th>\n",
       "      <td>SCRIMSHAW MATTHEW</td>\n",
       "      <td>0.894737</td>\n",
       "      <td>0.857143</td>\n",
       "      <td>1.0</td>\n",
       "      <td>False</td>\n",
       "    </tr>\n",
       "    <tr>\n",
       "      <th>113</th>\n",
       "      <td>BROWN MICHAEL</td>\n",
       "      <td>0.631579</td>\n",
       "      <td>0.857143</td>\n",
       "      <td>0.0</td>\n",
       "      <td>False</td>\n",
       "    </tr>\n",
       "    <tr>\n",
       "      <th>59</th>\n",
       "      <td>PIRO JIM</td>\n",
       "      <td>0.631579</td>\n",
       "      <td>0.857143</td>\n",
       "      <td>0.0</td>\n",
       "      <td>False</td>\n",
       "    </tr>\n",
       "    <tr>\n",
       "      <th>47</th>\n",
       "      <td>POWERS WILLIAM</td>\n",
       "      <td>0.631579</td>\n",
       "      <td>0.857143</td>\n",
       "      <td>0.0</td>\n",
       "      <td>False</td>\n",
       "    </tr>\n",
       "    <tr>\n",
       "      <th>38</th>\n",
       "      <td>LEWIS RICHARD</td>\n",
       "      <td>0.631579</td>\n",
       "      <td>0.857143</td>\n",
       "      <td>0.0</td>\n",
       "      <td>False</td>\n",
       "    </tr>\n",
       "    <tr>\n",
       "      <th>101</th>\n",
       "      <td>THE TRAVEL AGENCY IN THE PARK</td>\n",
       "      <td>0.894737</td>\n",
       "      <td>0.857143</td>\n",
       "      <td>1.0</td>\n",
       "      <td>False</td>\n",
       "    </tr>\n",
       "    <tr>\n",
       "      <th>62</th>\n",
       "      <td>WROBEL BRUCE</td>\n",
       "      <td>0.894737</td>\n",
       "      <td>0.857143</td>\n",
       "      <td>1.0</td>\n",
       "      <td>False</td>\n",
       "    </tr>\n",
       "  </tbody>\n",
       "</table>\n",
       "</div>"
      ],
      "text/plain": [
       "                              name  nan_percentage_total  nan_percentage_fin  \\\n",
       "90               LOCKHART EUGENE E              1.000000            1.000000   \n",
       "73               SCRIMSHAW MATTHEW              0.894737            0.857143   \n",
       "113                  BROWN MICHAEL              0.631579            0.857143   \n",
       "59                        PIRO JIM              0.631579            0.857143   \n",
       "47                  POWERS WILLIAM              0.631579            0.857143   \n",
       "38                   LEWIS RICHARD              0.631579            0.857143   \n",
       "101  THE TRAVEL AGENCY IN THE PARK              0.894737            0.857143   \n",
       "62                    WROBEL BRUCE              0.894737            0.857143   \n",
       "\n",
       "     nan_percentage_message    poi  \n",
       "90                      1.0  False  \n",
       "73                      1.0  False  \n",
       "113                     0.0  False  \n",
       "59                      0.0  False  \n",
       "47                      0.0  False  \n",
       "38                      0.0  False  \n",
       "101                     1.0  False  \n",
       "62                      1.0  False  "
      ]
     },
     "execution_count": 22,
     "metadata": {},
     "output_type": "execute_result"
    }
   ],
   "source": [
    "sorter(check_df, 'nan_percentage_fin').head(8)"
   ]
  },
  {
   "cell_type": "markdown",
   "metadata": {},
   "source": [
    "#### Percentage of NaN (messages)"
   ]
  },
  {
   "cell_type": "code",
   "execution_count": 23,
   "metadata": {
    "collapsed": false
   },
   "outputs": [
    {
     "data": {
      "text/html": [
       "<div>\n",
       "<table border=\"1\" class=\"dataframe\">\n",
       "  <thead>\n",
       "    <tr style=\"text-align: right;\">\n",
       "      <th></th>\n",
       "      <th>name</th>\n",
       "      <th>nan_percentage_total</th>\n",
       "      <th>nan_percentage_fin</th>\n",
       "      <th>nan_percentage_message</th>\n",
       "      <th>poi</th>\n",
       "    </tr>\n",
       "  </thead>\n",
       "  <tbody>\n",
       "    <tr>\n",
       "      <th>73</th>\n",
       "      <td>SCRIMSHAW MATTHEW</td>\n",
       "      <td>0.894737</td>\n",
       "      <td>0.857143</td>\n",
       "      <td>1.0</td>\n",
       "      <td>False</td>\n",
       "    </tr>\n",
       "    <tr>\n",
       "      <th>54</th>\n",
       "      <td>LEMAISTRE CHARLES</td>\n",
       "      <td>0.736842</td>\n",
       "      <td>0.642857</td>\n",
       "      <td>1.0</td>\n",
       "      <td>False</td>\n",
       "    </tr>\n",
       "    <tr>\n",
       "      <th>63</th>\n",
       "      <td>LINDHOLM TOD A</td>\n",
       "      <td>0.473684</td>\n",
       "      <td>0.285714</td>\n",
       "      <td>1.0</td>\n",
       "      <td>False</td>\n",
       "    </tr>\n",
       "    <tr>\n",
       "      <th>62</th>\n",
       "      <td>WROBEL BRUCE</td>\n",
       "      <td>0.894737</td>\n",
       "      <td>0.857143</td>\n",
       "      <td>1.0</td>\n",
       "      <td>False</td>\n",
       "    </tr>\n",
       "    <tr>\n",
       "      <th>61</th>\n",
       "      <td>SULLIVAN-SHAKLOVITZ COLLEEN</td>\n",
       "      <td>0.578947</td>\n",
       "      <td>0.428571</td>\n",
       "      <td>1.0</td>\n",
       "      <td>False</td>\n",
       "    </tr>\n",
       "  </tbody>\n",
       "</table>\n",
       "</div>"
      ],
      "text/plain": [
       "                           name  nan_percentage_total  nan_percentage_fin  \\\n",
       "73            SCRIMSHAW MATTHEW              0.894737            0.857143   \n",
       "54            LEMAISTRE CHARLES              0.736842            0.642857   \n",
       "63               LINDHOLM TOD A              0.473684            0.285714   \n",
       "62                 WROBEL BRUCE              0.894737            0.857143   \n",
       "61  SULLIVAN-SHAKLOVITZ COLLEEN              0.578947            0.428571   \n",
       "\n",
       "    nan_percentage_message    poi  \n",
       "73                     1.0  False  \n",
       "54                     1.0  False  \n",
       "63                     1.0  False  \n",
       "62                     1.0  False  \n",
       "61                     1.0  False  "
      ]
     },
     "execution_count": 23,
     "metadata": {},
     "output_type": "execute_result"
    }
   ],
   "source": [
    "sorter(check_df, 'nan_percentage_message').head()"
   ]
  },
  {
   "cell_type": "markdown",
   "metadata": {},
   "source": [
    "## Final list of outliers"
   ]
  },
  {
   "cell_type": "markdown",
   "metadata": {},
   "source": [
    "The final list of outliers is reported below."
   ]
  },
  {
   "cell_type": "code",
   "execution_count": 24,
   "metadata": {
    "collapsed": false
   },
   "outputs": [
    {
     "data": {
      "text/plain": [
       "['TOTAL',\n",
       " 'SHAPIRO RICHARD S',\n",
       " 'KAMINSKI WINCENTY J',\n",
       " 'KEAN STEVEN J',\n",
       " 'LOCKHART EUGENE E',\n",
       " 'THE TRAVEL AGENCY IN THE PARK']"
      ]
     },
     "execution_count": 24,
     "metadata": {},
     "output_type": "execute_result"
    }
   ],
   "source": [
    "outliers"
   ]
  }
 ],
 "metadata": {
  "kernelspec": {
   "display_name": "Python 2",
   "language": "python",
   "name": "python2"
  },
  "language_info": {
   "codemirror_mode": {
    "name": "ipython",
    "version": 2
   },
   "file_extension": ".py",
   "mimetype": "text/x-python",
   "name": "python",
   "nbconvert_exporter": "python",
   "pygments_lexer": "ipython2",
   "version": "2.7.12"
  }
 },
 "nbformat": 4,
 "nbformat_minor": 0
}
