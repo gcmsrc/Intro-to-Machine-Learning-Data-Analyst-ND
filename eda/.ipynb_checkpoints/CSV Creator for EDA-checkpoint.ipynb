{
 "cells": [
  {
   "cell_type": "markdown",
   "metadata": {},
   "source": [
    "# Introduction"
   ]
  },
  {
   "cell_type": "markdown",
   "metadata": {},
   "source": [
    "This simple workbook simply extract the Enron data dictionary, removes the outliers previously identified, and returns a .csv file that can be used for EDA in R."
   ]
  },
  {
   "cell_type": "code",
   "execution_count": 1,
   "metadata": {
    "collapsed": true
   },
   "outputs": [],
   "source": [
    "import pickle\n",
    "import pandas as pd\n",
    "import dict_parser"
   ]
  },
  {
   "cell_type": "code",
   "execution_count": 2,
   "metadata": {
    "collapsed": false
   },
   "outputs": [],
   "source": [
    "with open(\"final_project_dataset.pkl\", \"r\") as data_file:\n",
    "    data_dict = pickle.load(data_file)"
   ]
  },
  {
   "cell_type": "code",
   "execution_count": 3,
   "metadata": {
    "collapsed": false
   },
   "outputs": [],
   "source": [
    "# Remove outliers\n",
    "outliers = ['TOTAL',\n",
    " 'SHAPIRO RICHARD S',\n",
    " 'KAMINSKI WINCENTY J',\n",
    " 'KEAN STEVEN J',\n",
    " 'LOCKHART EUGENE E',\n",
    " 'THE TRAVEL AGENCY IN THE PARK']\n",
    "\n",
    "for outlier in outliers:\n",
    "    data_dict.pop(outlier, 0)"
   ]
  },
  {
   "cell_type": "code",
   "execution_count": 4,
   "metadata": {
    "collapsed": false
   },
   "outputs": [
    {
     "name": "stdout",
     "output_type": "stream",
     "text": [
      "['METTS MARK', 365788.0, 807.0, nan, 1061827.0, nan, 600000.0, 585062.0, 702.0, nan, 585062.0, 94299.0, nan, 29.0, 1740.0, 1.0, 0.0, nan, nan, nan, 'mark.metts@enron.com', 38.0]\n",
      "['BAXTER JOHN C', 267102.0, nan, 1295738.0, 5634343.0, 6680544.0, 1200000.0, 3942714.0, nan, nan, 10623258.0, 11200.0, nan, nan, 2660303.0, nan, 0.0, nan, -1386055.0, 1586055.0, 'NaN', nan]\n",
      "['ELLIOTT STEVEN', 170941.0, nan, nan, 211725.0, 4890344.0, 350000.0, 1788391.0, nan, nan, 6678735.0, 78552.0, nan, nan, 12961.0, nan, 0.0, nan, -400729.0, nan, 'steven.elliott@enron.com', nan]\n",
      "['CORDES WILLIAM R', nan, 764.0, nan, nan, 651850.0, nan, 386335.0, 58.0, nan, 1038185.0, nan, nan, 12.0, nan, 0.0, 0.0, nan, nan, nan, 'bill.cordes@enron.com', 10.0]\n",
      "['HANNON KEVIN P', 243293.0, 1045.0, nan, 288682.0, 5538001.0, 1500000.0, 853064.0, 1035.0, nan, 6391065.0, 34039.0, nan, 32.0, 11350.0, 21.0, 1.0, nan, -3117011.0, 1617011.0, 'kevin.hannon@enron.com', 32.0]\n",
      "['MORDAUNT KRISTINA M', 267093.0, nan, nan, 628522.0, nan, 325000.0, 208510.0, nan, nan, 208510.0, 35018.0, nan, nan, 1411.0, nan, 0.0, nan, nan, nan, 'kristina.mordaunt@enron.com', nan]\n",
      "['MEYER ROCKFORD G', nan, 232.0, 1848227.0, 1848227.0, 493489.0, nan, 462384.0, 22.0, nan, 955873.0, nan, nan, 28.0, nan, 0.0, 0.0, nan, nan, nan, 'rockford.meyer@enron.com', 0.0]\n",
      "['MCMAHON JEFFREY', 370448.0, 2355.0, nan, 4099771.0, 1104054.0, 2600000.0, 558801.0, 2228.0, nan, 1662855.0, 137108.0, nan, 48.0, 297353.0, 26.0, 0.0, nan, nan, 694862.0, 'jeffrey.mcmahon@enron.com', 58.0]\n",
      "['HORTON STANLEY C', nan, 2350.0, 3131860.0, 3131860.0, 5210569.0, nan, 2046079.0, 1074.0, nan, 7256648.0, nan, nan, 1073.0, nan, 15.0, 0.0, nan, nan, nan, 'stanley.horton@enron.com', 44.0]\n",
      "['PIPER GREGORY F', 197091.0, 1238.0, 1130036.0, 1737629.0, 880290.0, 400000.0, 409554.0, 742.0, -409554.0, 880290.0, 43057.0, nan, 222.0, 778.0, 48.0, 0.0, nan, -33333.0, nan, 'greg.piper@enron.com', 61.0]\n",
      "['HUMPHREY GENE E', 130724.0, 128.0, 2964506.0, 3100224.0, 2282768.0, nan, nan, 119.0, nan, 2282768.0, 4994.0, nan, 17.0, nan, 17.0, 0.0, nan, nan, nan, 'gene.humphrey@enron.com', 10.0]\n",
      "['UMANOFF ADAM S', 288589.0, 111.0, nan, 1130461.0, nan, 788750.0, nan, 41.0, nan, nan, 53122.0, nan, 18.0, nan, 0.0, 0.0, nan, nan, nan, 'adam.umanoff@enron.com', 12.0]\n",
      "['BLACHMAN JEREMY M', 248546.0, 2475.0, nan, 2014835.0, 765313.0, 850000.0, 189041.0, 2326.0, nan, 954354.0, 84208.0, nan, 14.0, 272.0, 2.0, 0.0, nan, nan, 831809.0, 'jeremy.blachman@enron.com', 25.0]\n",
      "['SUNDE MARTIN', 257486.0, 2647.0, nan, 1545059.0, nan, 700000.0, 698920.0, 2565.0, nan, 698920.0, nan, nan, 38.0, 111122.0, 13.0, 0.0, nan, nan, 476451.0, 'marty.sunde@enron.com', 37.0]\n",
      "['GIBBS DANA R', nan, 169.0, 504610.0, 966522.0, 2218275.0, nan, nan, 23.0, nan, 2218275.0, nan, nan, 12.0, nan, 0.0, 0.0, nan, nan, 461912.0, 'dana.gibbs@enron.com', 0.0]\n",
      "['LOWRY CHARLES P', nan, nan, nan, nan, 372205.0, nan, 153686.0, nan, -153686.0, 372205.0, nan, nan, nan, nan, nan, 0.0, nan, nan, nan, 'NaN', nan]\n",
      "['COLWELL WESLEY', 288542.0, 1758.0, 27610.0, 1490344.0, nan, 1200000.0, 698242.0, 1132.0, nan, 698242.0, 16514.0, nan, 40.0, 101740.0, 11.0, 1.0, nan, -144062.0, nan, 'wes.colwell@enron.com', 240.0]\n",
      "['MULLER MARK S', 251654.0, 136.0, 842924.0, 3202070.0, 1056320.0, 1100000.0, 360528.0, 114.0, nan, 1416848.0, nan, nan, 16.0, 947.0, 0.0, 0.0, nan, -719000.0, 1725545.0, 's..muller@enron.com', 12.0]\n",
      "['JACKSON CHARLENE R', 288558.0, 258.0, nan, 551174.0, 185063.0, 250000.0, 540672.0, 117.0, nan, 725735.0, 10181.0, nan, 56.0, 2435.0, 19.0, 0.0, nan, nan, nan, 'charlene.jackson@enron.com', 25.0]\n",
      "['WESTFAHL RICHARD K', 63744.0, nan, nan, 762135.0, nan, nan, 384930.0, nan, nan, 384930.0, 51870.0, nan, nan, 401130.0, nan, 0.0, nan, -10800.0, 256191.0, 'dick.westfahl@enron.com', nan]\n",
      "['WALTERS GARETH W', nan, nan, 53625.0, 87410.0, 1030329.0, nan, nan, nan, nan, 1030329.0, 33785.0, nan, nan, nan, nan, 0.0, nan, nan, nan, 'NaN', nan]\n",
      "['WALLS JR ROBERT H', 357091.0, 671.0, nan, 1798780.0, 4346544.0, 850000.0, 1552453.0, 215.0, nan, 5898997.0, 50936.0, nan, 146.0, 2.0, 0.0, 0.0, nan, nan, 540751.0, 'rob.walls@enron.com', 17.0]\n",
      "['KITCHEN LOUISE', 271442.0, 8305.0, nan, 3471141.0, 81042.0, 3100000.0, 466101.0, 3669.0, nan, 547143.0, 5774.0, nan, 1728.0, 93925.0, 194.0, 0.0, nan, nan, nan, 'louise.kitchen@enron.com', 251.0]\n",
      "['CHAN RONNIE', nan, nan, nan, nan, nan, nan, 32460.0, nan, -32460.0, nan, nan, nan, nan, nan, nan, 0.0, 98784.0, -98784.0, nan, 'NaN', nan]\n",
      "['BELFER ROBERT', nan, nan, -102500.0, 102500.0, 3285.0, nan, nan, nan, 44093.0, -44093.0, nan, nan, nan, nan, nan, 0.0, 3285.0, nan, nan, 'NaN', nan]\n",
      "['SHANKMAN JEFFREY A', 304110.0, 3221.0, nan, 3038702.0, 1441898.0, 2000000.0, 630137.0, 1730.0, nan, 2072035.0, 178979.0, nan, 2681.0, 1191.0, 83.0, 0.0, nan, nan, 554422.0, 'jeffrey.shankman@enron.com', 94.0]\n",
      "['WODRASKA JOHN', nan, nan, nan, 189583.0, nan, nan, nan, nan, nan, nan, nan, nan, nan, 189583.0, nan, 0.0, nan, nan, nan, 'john.wodraska@enron.com', nan]\n",
      "['BERGSIEKER RICHARD P', 187922.0, 383.0, nan, 618850.0, nan, 250000.0, 659249.0, 233.0, nan, 659249.0, 59175.0, nan, 59.0, 427316.0, 0.0, 0.0, nan, -485813.0, 180250.0, 'rick.bergsieker@enron.com', 4.0]\n",
      "['URQUHART JOHN A', nan, nan, nan, 228656.0, nan, nan, nan, nan, nan, nan, 228656.0, nan, nan, nan, nan, 0.0, 36666.0, -36666.0, nan, 'NaN', nan]\n",
      "['BIBI PHILIPPE A', 213625.0, 1607.0, nan, 2047593.0, 1465734.0, 1000000.0, 378082.0, 1336.0, nan, 1843816.0, 38559.0, nan, 40.0, 425688.0, 8.0, 0.0, nan, nan, 369721.0, 'philippe.bibi@enron.com', 23.0]\n",
      "['RIEKER PAULA H', 249201.0, 1328.0, 214678.0, 1099100.0, 1635238.0, 700000.0, 283649.0, 1258.0, nan, 1918887.0, 33271.0, nan, 82.0, 1950.0, 48.0, 1.0, nan, -100000.0, nan, 'paula.rieker@enron.com', 35.0]\n",
      "['WHALEY DAVID A', nan, nan, nan, nan, 98718.0, nan, nan, nan, nan, 98718.0, nan, nan, nan, nan, nan, 0.0, nan, nan, nan, 'NaN', nan]\n",
      "['BECK SALLY W', 231330.0, 7315.0, nan, 969068.0, nan, 700000.0, 126027.0, 2639.0, nan, 126027.0, 37172.0, nan, 4343.0, 566.0, 386.0, 0.0, nan, nan, nan, 'sally.beck@enron.com', 144.0]\n",
      "['HAUG DAVID L', nan, 573.0, nan, 475.0, nan, nan, 2217299.0, 471.0, nan, 2217299.0, 475.0, nan, 19.0, nan, 7.0, 0.0, nan, nan, nan, 'david.haug@enron.com', 4.0]\n",
      "['ECHOLS JOHN B', 182245.0, nan, nan, 2692324.0, 601438.0, 200000.0, 407503.0, nan, nan, 1008941.0, 21530.0, nan, nan, 53775.0, nan, 0.0, nan, nan, 2234774.0, 'john.echols@enron.com', nan]\n",
      "['MENDELSOHN JOHN', nan, nan, nan, 148.0, nan, nan, nan, nan, nan, nan, 148.0, nan, nan, nan, nan, 0.0, 103750.0, -103750.0, nan, 'NaN', nan]\n",
      "['HICKERSON GARY J', 211788.0, 1320.0, nan, 2081796.0, nan, 1700000.0, 441096.0, 900.0, nan, 441096.0, 98849.0, nan, 27.0, 1936.0, 1.0, 0.0, nan, nan, 69223.0, 'gary.hickerson@enron.com', 40.0]\n",
      "['CLINE KENNETH W', nan, nan, nan, nan, nan, nan, 662086.0, nan, -472568.0, 189518.0, nan, nan, nan, nan, nan, 0.0, nan, nan, nan, 'NaN', nan]\n",
      "['LEWIS RICHARD', nan, 952.0, nan, nan, 850477.0, nan, nan, 739.0, nan, 850477.0, nan, nan, 26.0, nan, 0.0, 0.0, nan, nan, nan, 'richard.lewis@enron.com', 10.0]\n",
      "['HAYES ROBERT E', nan, 504.0, 7961.0, 7961.0, nan, nan, 151418.0, 50.0, nan, 151418.0, nan, nan, 12.0, nan, 0.0, 0.0, nan, nan, nan, 'robert.hayes@enron.com', 16.0]\n",
      "['MCCARTY DANNY J', nan, 1433.0, nan, nan, 664375.0, nan, 94556.0, 508.0, nan, 758931.0, nan, nan, 215.0, nan, 2.0, 0.0, nan, nan, nan, 'danny.mccarty@enron.com', 25.0]\n",
      "['KOPPER MICHAEL J', 224305.0, nan, nan, 2652612.0, nan, 800000.0, 985032.0, nan, nan, 985032.0, 118134.0, nan, nan, 907502.0, nan, 1.0, nan, nan, 602671.0, 'michael.kopper@enron.com', nan]\n",
      "['LEFF DANIEL P', 273746.0, 2822.0, nan, 2664228.0, nan, 1000000.0, 360528.0, 2672.0, nan, 360528.0, nan, nan, 63.0, 3083.0, 14.0, 0.0, nan, nan, 1387399.0, 'dan.leff@enron.com', 67.0]\n",
      "['LAVORATO JOHN J', 339288.0, 7259.0, nan, 10425757.0, 4158995.0, 8000000.0, 1008149.0, 3962.0, nan, 5167144.0, 49537.0, nan, 2585.0, 1552.0, 411.0, 0.0, nan, nan, 2035380.0, 'john.lavorato@enron.com', 528.0]\n",
      "['BERBERIAN DAVID', 216582.0, nan, nan, 228474.0, 1624396.0, nan, 869220.0, nan, nan, 2493616.0, 11892.0, nan, nan, nan, nan, 0.0, nan, nan, nan, 'david.berberian@enron.com', nan]\n",
      "['DETMERING TIMOTHY J', 210500.0, nan, 875307.0, 1204583.0, 2027865.0, 425000.0, 315068.0, nan, -315068.0, 2027865.0, 52255.0, nan, nan, 1105.0, nan, 0.0, nan, -775241.0, 415657.0, 'timothy.detmering@enron.com', nan]\n",
      "['WAKEHAM JOHN', nan, nan, nan, 213071.0, nan, nan, nan, nan, nan, nan, 103773.0, nan, nan, nan, nan, 0.0, 109298.0, nan, nan, 'NaN', nan]\n",
      "['POWERS WILLIAM', nan, 653.0, nan, nan, nan, nan, nan, 12.0, nan, nan, nan, nan, 26.0, nan, 0.0, 0.0, 17500.0, -17500.0, nan, 'ken.powers@enron.com', 0.0]\n",
      "['GOLD JOSEPH', 272880.0, nan, nan, 2146973.0, 436515.0, 750000.0, 441096.0, nan, nan, 877611.0, nan, nan, nan, 819288.0, nan, 0.0, nan, nan, 304805.0, 'joe.gold@enron.com', nan]\n",
      "['BANNANTINE JAMES M', 477.0, 566.0, nan, 916197.0, 4046157.0, nan, 1757552.0, 465.0, -560222.0, 5243487.0, 56301.0, nan, 29.0, 864523.0, 0.0, 0.0, nan, -5104.0, nan, 'james.bannantine@enron.com', 39.0]\n",
      "['DUNCAN JOHN H', nan, nan, nan, 77492.0, 371750.0, nan, nan, nan, nan, 371750.0, nan, nan, nan, nan, nan, 0.0, 102492.0, -25000.0, nan, 'NaN', nan]\n",
      "['SHERRIFF JOHN R', 428780.0, 3187.0, nan, 4335388.0, 1835558.0, 1500000.0, 1293424.0, 2103.0, nan, 3128982.0, nan, nan, 92.0, 1852186.0, 23.0, 0.0, nan, nan, 554422.0, 'john.sherriff@enron.com', 28.0]\n",
      "['SHELBY REX', 211844.0, 225.0, nan, 2003885.0, 1624396.0, 200000.0, 869220.0, 91.0, nan, 2493616.0, 22884.0, nan, 39.0, 1573324.0, 14.0, 1.0, nan, -4167.0, nan, 'rex.shelby@enron.com', 13.0]\n",
      "['LEMAISTRE CHARLES', nan, nan, nan, 87492.0, 412878.0, nan, nan, nan, nan, 412878.0, nan, nan, nan, nan, nan, 0.0, 112492.0, -25000.0, nan, 'NaN', nan]\n",
      "['DEFFNER JOSEPH M', 206121.0, 714.0, nan, 1208649.0, 17378.0, 600000.0, 141833.0, 552.0, nan, 159211.0, 41626.0, nan, 74.0, 25553.0, 4.0, 0.0, nan, nan, 335349.0, 'joseph.deffner@enron.com', 115.0]\n",
      "['KISHKILL JOSEPH G', 174246.0, nan, nan, 704896.0, nan, nan, 1034346.0, nan, nan, 1034346.0, 116335.0, nan, nan, 465357.0, nan, 0.0, nan, -51042.0, nan, 'joe.kishkill@enron.com', nan]\n",
      "['WHALLEY LAWRENCE G', 510364.0, 6019.0, nan, 4677574.0, 3282960.0, 3000000.0, 2796177.0, 3920.0, nan, 6079137.0, 57838.0, nan, 556.0, 301026.0, 24.0, 0.0, nan, nan, 808346.0, 'greg.whalley@enron.com', 186.0]\n",
      "['MCCONNELL MICHAEL S', 365038.0, 3329.0, nan, 2101364.0, 1623010.0, 1100000.0, 1478269.0, 2189.0, nan, 3101279.0, 81364.0, nan, 2742.0, 540.0, 194.0, 0.0, nan, nan, 554422.0, 'mike.mcconnell@enron.com', 92.0]\n",
      "['PIRO JIM', nan, 58.0, nan, nan, nan, nan, 47304.0, 3.0, nan, 47304.0, nan, nan, 16.0, nan, 1.0, 0.0, nan, nan, nan, 'jim.piro@enron.com', 0.0]\n",
      "['DELAINEY DAVID W', 365163.0, 3093.0, nan, 4747979.0, 2291113.0, 3000000.0, 1323148.0, 2097.0, nan, 3614261.0, 86174.0, nan, 3069.0, 1661.0, 609.0, 1.0, nan, nan, 1294981.0, 'david.delainey@enron.com', 66.0]\n",
      "['SULLIVAN-SHAKLOVITZ COLLEEN', 162779.0, nan, 181993.0, 999356.0, 1362375.0, 100000.0, nan, nan, nan, 1362375.0, nan, nan, nan, 162.0, nan, 0.0, nan, nan, 554422.0, 'NaN', nan]\n",
      "['WROBEL BRUCE', nan, nan, nan, nan, 139130.0, nan, nan, nan, nan, 139130.0, nan, nan, nan, nan, nan, 0.0, nan, nan, nan, 'NaN', nan]\n",
      "['LINDHOLM TOD A', 236457.0, nan, 204075.0, 875889.0, 2549361.0, 200000.0, 514847.0, nan, nan, 3064208.0, 57727.0, nan, nan, 2630.0, nan, 0.0, nan, nan, 175000.0, 'tod.lindholm@enron.com', nan]\n",
      "['MEYER JEROME J', nan, nan, nan, 2151.0, nan, nan, nan, nan, nan, nan, 2151.0, nan, nan, nan, nan, 0.0, 38346.0, -38346.0, nan, 'NaN', nan]\n",
      "['LAY KENNETH L', 1072321.0, 4273.0, 202911.0, 103559793.0, 34348384.0, 7000000.0, 14761694.0, 2411.0, nan, 49110078.0, 99832.0, 81525000.0, 36.0, 10359729.0, 16.0, 1.0, nan, -300000.0, 3600000.0, 'kenneth.lay@enron.com', 123.0]\n",
      "['BUTTS ROBERT H', 261516.0, nan, nan, 1271582.0, nan, 750000.0, 417619.0, nan, nan, 417619.0, 9410.0, nan, nan, 150656.0, nan, 0.0, nan, -75000.0, 175000.0, 'bob.butts@enron.com', nan]\n",
      "['OLSON CINDY K', 329078.0, 1184.0, 77716.0, 1321557.0, 1637034.0, 750000.0, 969729.0, 856.0, nan, 2606763.0, 63791.0, nan, 52.0, 972.0, 15.0, 0.0, nan, nan, 100000.0, 'cindy.olson@enron.com', 20.0]\n",
      "['MCDONALD REBECCA', nan, 894.0, nan, nan, 757301.0, nan, 934065.0, 720.0, nan, 1691366.0, nan, nan, 13.0, nan, 1.0, 0.0, nan, nan, nan, 'rebecca.mcdonald@enron.com', 54.0]\n",
      "['CUMBERLAND MICHAEL S', 184899.0, nan, nan, 807956.0, nan, 325000.0, 207940.0, nan, nan, 207940.0, 22344.0, nan, nan, 713.0, nan, 0.0, nan, nan, 275000.0, 'NaN', nan]\n",
      "['GAHN ROBERT S', 192008.0, nan, 73122.0, 900585.0, 83237.0, 509870.0, 235370.0, nan, nan, 318607.0, 50080.0, nan, nan, 76547.0, nan, 0.0, nan, -1042.0, nan, 'NaN', nan]\n",
      "['MCCLELLAN GEORGE', 263413.0, 1744.0, nan, 1318763.0, 506765.0, 900000.0, 441096.0, 1469.0, nan, 947861.0, 228763.0, nan, 49.0, 51587.0, 0.0, 0.0, nan, -125000.0, nan, 'george.mcclellan@enron.com', 52.0]\n",
      "['HERMANN ROBERT J', 262663.0, nan, nan, 1297461.0, 187500.0, 700000.0, 480632.0, nan, nan, 668132.0, 48357.0, nan, nan, 416441.0, nan, 0.0, nan, -280000.0, 150000.0, 'robert.hermann@enron.com', nan]\n",
      "['SCRIMSHAW MATTHEW', nan, nan, nan, nan, 759557.0, nan, nan, nan, nan, 759557.0, nan, nan, nan, nan, nan, 0.0, nan, nan, nan, 'matthew.scrimshaw@enron.com', nan]\n",
      "['GATHMANN WILLIAM D', nan, nan, nan, nan, 1753766.0, nan, 264013.0, nan, -72419.0, 1945360.0, nan, nan, nan, nan, nan, 0.0, nan, nan, nan, 'NaN', nan]\n",
      "['HAEDICKE MARK E', 374125.0, 4009.0, 2157527.0, 3859065.0, 608750.0, 1150000.0, 524169.0, 1847.0, -329825.0, 803094.0, 76169.0, nan, 1941.0, 52382.0, 61.0, 0.0, nan, -934484.0, 983346.0, 'mark.haedicke@enron.com', 180.0]\n",
      "['BOWEN JR RAYMOND M', 278601.0, 1858.0, nan, 2669589.0, nan, 1350000.0, 252055.0, 1593.0, nan, 252055.0, 65907.0, nan, 27.0, 1621.0, 15.0, 1.0, nan, -833.0, 974293.0, 'raymond.bowen@enron.com', 140.0]\n",
      "['GILLIS JOHN', nan, nan, nan, nan, 9803.0, nan, 75838.0, nan, nan, 85641.0, nan, nan, nan, nan, nan, 0.0, nan, nan, nan, 'NaN', nan]\n",
      "['FITZGERALD JAY L', 199157.0, 936.0, nan, 1414857.0, 664461.0, 350000.0, 956775.0, 723.0, nan, 1621236.0, 23870.0, nan, 16.0, 285414.0, 8.0, 0.0, nan, nan, 556416.0, 'jay.fitzgerald@enron.com', 1.0]\n",
      "['MORAN MICHAEL P', nan, 672.0, nan, nan, 59539.0, nan, 161602.0, 127.0, nan, 221141.0, nan, nan, 19.0, nan, 0.0, 0.0, nan, nan, nan, 'michael.moran@enron.com', 0.0]\n",
      "['REDMOND BRIAN L', 96840.0, 1671.0, nan, 111529.0, 7509039.0, nan, 381285.0, 1063.0, nan, 7890324.0, 14689.0, nan, 221.0, nan, 49.0, 0.0, nan, nan, nan, 'brian.redmond@enron.com', 204.0]\n",
      "['BAZELIDES PHILIP J', 80818.0, nan, 684694.0, 860136.0, 1599641.0, nan, nan, nan, nan, 1599641.0, nan, nan, nan, 874.0, nan, 0.0, nan, nan, 93750.0, 'NaN', nan]\n",
      "['BELDEN TIMOTHY N', 213999.0, 7991.0, 2144013.0, 5501630.0, 953136.0, 5249999.0, 157569.0, 5521.0, nan, 1110705.0, 17355.0, nan, 484.0, 210698.0, 108.0, 1.0, nan, -2334434.0, nan, 'tim.belden@enron.com', 228.0]\n",
      "['DURAN WILLIAM D', 210692.0, 904.0, nan, 2093263.0, 1451869.0, 750000.0, 189041.0, 599.0, nan, 1640910.0, 25785.0, nan, 12.0, 1568.0, 3.0, 0.0, nan, nan, 1105218.0, 'w.duran@enron.com', 106.0]\n",
      "['THORN TERENCE H', 222093.0, 266.0, 16586.0, 911453.0, 4452476.0, nan, 365320.0, 73.0, nan, 4817796.0, 46145.0, nan, 41.0, 426629.0, 0.0, 0.0, nan, nan, 200000.0, 'terence.thorn@enron.com', 0.0]\n",
      "['FASTOW ANDREW S', 440698.0, nan, nan, 2424083.0, nan, 1300000.0, 1794412.0, nan, nan, 1794412.0, 55921.0, nan, nan, 277464.0, nan, 1.0, nan, -1386055.0, 1736055.0, 'andrew.fastow@enron.com', nan]\n",
      "['FOY JOE', nan, 57.0, 181755.0, 181755.0, 343434.0, nan, nan, 2.0, nan, 343434.0, nan, nan, 13.0, nan, 0.0, 0.0, nan, nan, nan, 'tracy.foy@enron.com', 0.0]\n",
      "['CALGER CHRISTOPHER F', 240189.0, 2598.0, nan, 1639297.0, nan, 1250000.0, 126027.0, 2188.0, nan, 126027.0, 35818.0, nan, 144.0, 486.0, 25.0, 1.0, nan, -262500.0, 375304.0, 'christopher.calger@enron.com', 199.0]\n",
      "['RICE KENNETH D', 420636.0, 905.0, nan, 505050.0, 19794175.0, 1750000.0, 2748364.0, 864.0, nan, 22542539.0, 46950.0, nan, 18.0, 174839.0, 4.0, 1.0, nan, -3504386.0, 1617011.0, 'ken.rice@enron.com', 42.0]\n",
      "['COX DAVID', 314288.0, 102.0, nan, 1101393.0, 117551.0, 800000.0, 378082.0, 71.0, nan, 495633.0, 27861.0, nan, 33.0, 494.0, 4.0, 0.0, nan, -41250.0, nan, 'chip.cox@enron.com', 0.0]\n",
      "['OVERDYKE JR JERE C', 94941.0, nan, nan, 249787.0, 5266578.0, nan, 2041016.0, nan, nan, 7307594.0, 18834.0, nan, nan, 176.0, nan, 0.0, nan, nan, 135836.0, 'jere.overdyke@enron.com', nan]\n",
      "['PEREIRA PAULO V. FERRAZ', nan, nan, nan, 27942.0, nan, nan, nan, nan, nan, nan, 27942.0, nan, nan, nan, nan, 0.0, 101250.0, -101250.0, nan, 'NaN', nan]\n",
      "['STABLER FRANK', 239502.0, nan, nan, 1112087.0, nan, 500000.0, 511734.0, nan, nan, 511734.0, 16514.0, nan, nan, 356071.0, nan, 0.0, nan, nan, nan, 'frank.stabler@enron.com', nan]\n",
      "['SKILLING JEFFREY K', 1111258.0, 3627.0, nan, 8682716.0, 19250000.0, 5600000.0, 6843672.0, 2042.0, nan, 26093672.0, 29336.0, nan, 108.0, 22122.0, 30.0, 1.0, nan, nan, 1920000.0, 'jeff.skilling@enron.com', 88.0]\n",
      "['BLAKE JR. NORMAN P', nan, nan, nan, 1279.0, nan, nan, nan, nan, nan, nan, 1279.0, nan, nan, nan, nan, 0.0, 113784.0, -113784.0, nan, 'NaN', nan]\n",
      "['SHERRICK JEFFREY B', nan, 613.0, nan, nan, 1426469.0, nan, 405999.0, 583.0, nan, 1832468.0, nan, nan, 25.0, nan, 18.0, 0.0, nan, nan, nan, 'jeffrey.sherrick@enron.com', 39.0]\n",
      "['PRENTICE JAMES', nan, nan, 564348.0, 564348.0, 886231.0, nan, 208809.0, nan, nan, 1095040.0, nan, nan, nan, nan, nan, 0.0, nan, nan, nan, 'james.prentice@enron.com', nan]\n",
      "['GRAY RODNEY', 6615.0, nan, 93585.0, 1146658.0, nan, nan, nan, nan, nan, nan, nan, nan, nan, 680833.0, nan, 0.0, nan, nan, 365625.0, 'NaN', nan]\n",
      "['PICKERING MARK R', 655037.0, 898.0, nan, 1386690.0, 28798.0, 300000.0, nan, 728.0, nan, 28798.0, 31653.0, 400000.0, 67.0, nan, 0.0, 0.0, nan, nan, nan, 'mark.pickering@enron.com', 7.0]\n",
      "['NOLES JAMES L', nan, nan, 774401.0, 774401.0, nan, nan, 463261.0, nan, -94556.0, 368705.0, nan, nan, nan, nan, nan, 0.0, nan, nan, nan, 'NaN', nan]\n",
      "['FOWLER PEGGY', nan, 517.0, nan, nan, 1324578.0, nan, 560170.0, 10.0, nan, 1884748.0, nan, nan, 36.0, nan, 0.0, 0.0, nan, nan, nan, 'kulvinder.fowler@enron.com', 0.0]\n",
      "['WASAFF GEORGE', 259996.0, 400.0, 831299.0, 1034395.0, 1668260.0, 325000.0, 388167.0, 337.0, nan, 2056427.0, nan, nan, 30.0, 1425.0, 7.0, 0.0, nan, -583325.0, 200000.0, 'george.wasaff@enron.com', 22.0]\n",
      "['WHITE JR THOMAS E', 317543.0, nan, nan, 1934359.0, 1297049.0, 450000.0, 13847074.0, nan, nan, 15144123.0, 81353.0, nan, nan, 1085463.0, nan, 0.0, nan, nan, nan, 'thomas.white@enron.com', nan]\n",
      "['CHRISTODOULOU DIOMEDES', nan, nan, nan, nan, 5127155.0, nan, 950730.0, nan, nan, 6077885.0, nan, nan, nan, nan, nan, 0.0, nan, nan, nan, 'diomedes.christodoulou@enron.com', nan]\n",
      "['ALLEN PHILLIP K', 201955.0, 2902.0, 2869717.0, 4484442.0, 1729541.0, 4175000.0, 126027.0, 1407.0, -126027.0, 1729541.0, 13868.0, nan, 2195.0, 152.0, 65.0, 0.0, nan, -3081055.0, 304805.0, 'phillip.allen@enron.com', 47.0]\n",
      "['SHARP VICTORIA T', 248146.0, 3136.0, 187469.0, 1576511.0, 281073.0, 600000.0, 213063.0, 2477.0, nan, 494136.0, 116337.0, nan, 136.0, 2401.0, 6.0, 0.0, nan, nan, 422158.0, 'vicki.sharp@enron.com', 24.0]\n",
      "['JAEDICKE ROBERT', nan, nan, nan, 83750.0, 431750.0, nan, 44093.0, nan, -44093.0, 431750.0, nan, nan, nan, nan, nan, 0.0, 108750.0, -25000.0, nan, 'NaN', nan]\n",
      "['WINOKUR JR. HERBERT S', nan, nan, nan, 84992.0, nan, nan, nan, nan, nan, nan, 1413.0, nan, nan, nan, nan, 0.0, 108579.0, -25000.0, nan, 'NaN', nan]\n",
      "['BROWN MICHAEL', nan, 1486.0, nan, 49288.0, nan, nan, nan, 761.0, nan, nan, 49288.0, nan, 41.0, nan, 1.0, 0.0, nan, nan, nan, 'michael.brown@enron.com', 13.0]\n",
      "['BADUM JAMES P', nan, nan, 178980.0, 182466.0, 257817.0, nan, nan, nan, nan, 257817.0, 3486.0, nan, nan, nan, nan, 0.0, nan, nan, nan, 'NaN', nan]\n",
      "['HUGHES JAMES A', nan, 719.0, nan, nan, 754966.0, nan, 363428.0, 589.0, nan, 1118394.0, nan, nan, 34.0, nan, 5.0, 0.0, nan, nan, nan, 'james.hughes@enron.com', 35.0]\n",
      "['REYNOLDS LAWRENCE', 76399.0, nan, 51365.0, 394475.0, 4160672.0, 100000.0, 201483.0, nan, -140264.0, 4221891.0, 8409.0, nan, nan, 202052.0, nan, 0.0, nan, -200000.0, 156250.0, 'NaN', nan]\n",
      "['DIMICHELE RICHARD G', 262788.0, nan, nan, 2368151.0, 8191755.0, 1000000.0, 126027.0, nan, nan, 8317782.0, 35812.0, nan, nan, 374689.0, nan, 0.0, nan, nan, 694862.0, 'richard.dimichele@enron.com', nan]\n",
      "['BHATNAGAR SANJAY', nan, 523.0, nan, 15456290.0, 2604490.0, nan, -2604490.0, 463.0, 15456290.0, nan, nan, nan, 29.0, 137864.0, 1.0, 0.0, 137864.0, nan, nan, 'sanjay.bhatnagar@enron.com', 0.0]\n",
      "['CARTER REBECCA C', 261809.0, 312.0, nan, 477557.0, nan, 300000.0, 307301.0, 196.0, -307301.0, nan, nan, nan, 15.0, 540.0, 7.0, 0.0, nan, -159792.0, 75000.0, 'rebecca.carter@enron.com', 29.0]\n",
      "['BUCHANAN HAROLD G', 248017.0, 1088.0, nan, 1054637.0, 825464.0, 500000.0, 189041.0, 23.0, nan, 1014505.0, 600.0, nan, 125.0, 1215.0, 0.0, 0.0, nan, nan, 304805.0, 'john.buchanan@enron.com', 0.0]\n",
      "['YEAP SOON', nan, nan, nan, 55097.0, 192758.0, nan, nan, nan, nan, 192758.0, 55097.0, nan, nan, nan, nan, 0.0, nan, nan, nan, 'NaN', nan]\n",
      "['MURRAY JULIA H', 229284.0, 2192.0, nan, 812194.0, 400478.0, 400000.0, 196983.0, 395.0, nan, 597461.0, 57580.0, nan, 45.0, 330.0, 2.0, 0.0, nan, nan, 125000.0, 'julia.murray@enron.com', 11.0]\n",
      "['GARLAND C KEVIN', 231946.0, 209.0, nan, 1566469.0, 636246.0, 850000.0, 259907.0, 178.0, nan, 896153.0, 48405.0, nan, 44.0, 60814.0, 27.0, 0.0, nan, nan, 375304.0, 'kevin.garland@enron.com', 10.0]\n",
      "['DODSON KEITH', 221003.0, 176.0, nan, 319941.0, nan, 70000.0, nan, 114.0, nan, nan, 28164.0, nan, 14.0, 774.0, 3.0, 0.0, nan, nan, nan, 'keith.dodson@enron.com', 10.0]\n",
      "['YEAGER F SCOTT', 158403.0, nan, nan, 360300.0, 8308552.0, nan, 3576206.0, nan, nan, 11884758.0, 53947.0, nan, nan, 147950.0, nan, 1.0, nan, nan, nan, 'scott.yeager@enron.com', nan]\n",
      "['HIRKO JOSEPH', nan, nan, 10259.0, 91093.0, 30766064.0, nan, nan, nan, nan, 30766064.0, 77978.0, nan, nan, 2856.0, nan, 1.0, nan, nan, nan, 'joe.hirko@enron.com', nan]\n",
      "['DIETRICH JANET R', 250100.0, 2572.0, nan, 1410464.0, 1550019.0, 600000.0, 315068.0, 1902.0, nan, 1865087.0, 3475.0, nan, 63.0, 473.0, 14.0, 0.0, nan, nan, 556416.0, 'janet.dietrich@enron.com', 305.0]\n",
      "['DERRICK JR. JAMES V', 492375.0, 2181.0, nan, 550981.0, 8831913.0, 800000.0, 1787380.0, 1401.0, -1787380.0, 8831913.0, 51124.0, nan, 909.0, 7482.0, 20.0, 0.0, nan, -1284000.0, 484000.0, 'james.derrick@enron.com', 64.0]\n",
      "['FREVERT MARK A', 1060932.0, 3275.0, 6426990.0, 17252530.0, 10433518.0, 2000000.0, 4188667.0, 2979.0, nan, 14622185.0, 86987.0, 2000000.0, 21.0, 7427621.0, 6.0, 0.0, nan, -3367011.0, 1617011.0, 'mark.frevert@enron.com', 242.0]\n",
      "['PAI LOU L', 261879.0, nan, nan, 3123383.0, 15364167.0, 1000000.0, 8453763.0, nan, nan, 23817930.0, 32047.0, nan, nan, 1829457.0, nan, 0.0, nan, nan, nan, 'lou.pai@enron.com', nan]\n",
      "['BAY FRANKLIN R', 239671.0, nan, 260455.0, 827696.0, nan, 400000.0, 145796.0, nan, -82782.0, 63014.0, 129142.0, nan, nan, 69.0, nan, 0.0, nan, -201641.0, nan, 'frank.bay@enron.com', nan]\n",
      "['HAYSLETT RODERICK J', nan, 2649.0, nan, nan, nan, nan, 346663.0, 571.0, nan, 346663.0, nan, nan, 1061.0, nan, 38.0, 0.0, nan, nan, nan, 'rod.hayslett@enron.com', 35.0]\n",
      "['FUGH JOHN L', nan, nan, 50591.0, 50591.0, 176378.0, nan, nan, nan, nan, 176378.0, nan, nan, nan, nan, nan, 0.0, nan, nan, nan, 'NaN', nan]\n",
      "['FALLON JAMES B', 304588.0, 1755.0, nan, 3676340.0, 940257.0, 2500000.0, 1392142.0, 1604.0, nan, 2332399.0, 95924.0, nan, 75.0, 401481.0, 37.0, 0.0, nan, nan, 374347.0, 'jim.fallon@enron.com', 42.0]\n",
      "['KOENIG MARK E', 309946.0, 2374.0, nan, 1587421.0, 671737.0, 700000.0, 1248318.0, 2271.0, nan, 1920055.0, 127017.0, nan, 61.0, 150458.0, 15.0, 1.0, nan, nan, 300000.0, 'mark.koenig@enron.com', 53.0]\n",
      "['SAVAGE FRANK', nan, nan, nan, 3750.0, nan, nan, nan, nan, nan, nan, nan, nan, nan, nan, nan, 0.0, 125034.0, -121284.0, nan, 'NaN', nan]\n",
      "['IZZO LAWRENCE L', 85274.0, 496.0, nan, 1979596.0, 2165172.0, nan, 3654808.0, 437.0, nan, 5819980.0, 28093.0, nan, 19.0, 1553729.0, 5.0, 0.0, nan, nan, 312500.0, 'larry.izzo@enron.com', 28.0]\n",
      "['TILNEY ELIZABETH A', 247338.0, 460.0, nan, 399393.0, 591250.0, 300000.0, 576792.0, 379.0, nan, 1168042.0, nan, nan, 19.0, 152055.0, 11.0, 0.0, nan, -575000.0, 275000.0, 'elizabeth.tilney@enron.com', 10.0]\n",
      "['MARTIN AMANDA K', 349487.0, 1522.0, 85430.0, 8407016.0, 2070306.0, nan, nan, 477.0, nan, 2070306.0, 8211.0, nan, 230.0, 2818454.0, 0.0, 0.0, nan, nan, 5145434.0, 'a..martin@enron.com', 8.0]\n",
      "['BUY RICHARD B', 330546.0, 3523.0, 649584.0, 2355702.0, 2542813.0, 900000.0, 901657.0, 2333.0, nan, 3444470.0, nan, nan, 1053.0, 400572.0, 71.0, 0.0, nan, -694862.0, 769862.0, 'rick.buy@enron.com', 156.0]\n",
      "['GRAMM WENDY L', nan, nan, nan, 119292.0, nan, nan, nan, nan, nan, nan, nan, nan, nan, nan, nan, 0.0, 119292.0, nan, nan, 'NaN', nan]\n",
      "['CAUSEY RICHARD A', 415189.0, 1892.0, nan, 1868758.0, nan, 1000000.0, 2502063.0, 1585.0, nan, 2502063.0, 30674.0, nan, 49.0, 307895.0, 12.0, 1.0, nan, -235000.0, 350000.0, 'richard.causey@enron.com', 58.0]\n",
      "['TAYLOR MITCHELL S', 265214.0, 533.0, 227449.0, 1092663.0, 3181250.0, 600000.0, 563798.0, 300.0, nan, 3745048.0, nan, nan, 29.0, nan, 0.0, 0.0, nan, nan, nan, 'mitchell.taylor@enron.com', 0.0]\n",
      "['DONAHUE JR JEFFREY M', 278601.0, 865.0, nan, 875760.0, 765920.0, 800000.0, 315068.0, 772.0, nan, 1080988.0, 96268.0, nan, 22.0, 891.0, 11.0, 0.0, nan, -300000.0, nan, 'jeff.donahue@enron.com', 188.0]\n",
      "['GLISAN JR BEN F', 274975.0, 873.0, nan, 1272284.0, 384728.0, 600000.0, 393818.0, 874.0, nan, 778546.0, 125978.0, nan, 16.0, 200308.0, 6.0, 1.0, nan, nan, 71023.0, 'ben.glisan@enron.com', 52.0]\n"
     ]
    }
   ],
   "source": [
    "# Conver into pandas dataframe\n",
    "df = dict_parser.convert_into_df(data_dict)"
   ]
  },
  {
   "cell_type": "code",
   "execution_count": 5,
   "metadata": {
    "collapsed": true
   },
   "outputs": [],
   "source": [
    "# Write csv\n",
    "df.to_csv('enron.csv')"
   ]
  }
 ],
 "metadata": {
  "kernelspec": {
   "display_name": "Python 2",
   "language": "python",
   "name": "python2"
  },
  "language_info": {
   "codemirror_mode": {
    "name": "ipython",
    "version": 2
   },
   "file_extension": ".py",
   "mimetype": "text/x-python",
   "name": "python",
   "nbconvert_exporter": "python",
   "pygments_lexer": "ipython2",
   "version": "2.7.12"
  }
 },
 "nbformat": 4,
 "nbformat_minor": 0
}
